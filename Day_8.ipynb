{
  "nbformat": 4,
  "nbformat_minor": 0,
  "metadata": {
    "colab": {
      "name": "Day-8.ipynb",
      "version": "0.3.2",
      "provenance": [],
      "collapsed_sections": [],
      "include_colab_link": true
    },
    "kernelspec": {
      "name": "python3",
      "display_name": "Python 3"
    }
  },
  "cells": [
    {
      "cell_type": "markdown",
      "metadata": {
        "id": "view-in-github",
        "colab_type": "text"
      },
      "source": [
        "<a href=\"https://colab.research.google.com/github/harithan221810402016/HARITHA/blob/master/Day_8.ipynb\" target=\"_parent\"><img src=\"https://colab.research.google.com/assets/colab-badge.svg\" alt=\"Open In Colab\"/></a>"
      ]
    },
    {
      "cell_type": "code",
      "metadata": {
        "id": "62WL6rUA1NB3",
        "colab_type": "code",
        "outputId": "1d86fd2a-a21d-46f6-862a-7c0aadd86e00",
        "colab": {
          "base_uri": "https://localhost:8080/",
          "height": 129
        }
      },
      "source": [
        "###DAY OBJECTIVES\n",
        "-Python Data structures\n",
        " >Lists\n",
        "  >tuples\n",
        "  >Dictionaries\n",
        "-Basic Program sets on Data Structures\n",
        "-Advanced Problem set\n",
        "-contact application (dictionary object)\n",
        "\n",
        "#DATA STRUCTURES:\n",
        "-to store,search and sort the data "
      ],
      "execution_count": 0,
      "outputs": [
        {
          "output_type": "error",
          "ename": "SyntaxError",
          "evalue": "ignored",
          "traceback": [
            "\u001b[0;36m  File \u001b[0;32m\"<ipython-input-1-20549ab90ce3>\"\u001b[0;36m, line \u001b[0;32m1\u001b[0m\n\u001b[0;31m    -Python Data structures\u001b[0m\n\u001b[0m               ^\u001b[0m\n\u001b[0;31mSyntaxError\u001b[0m\u001b[0;31m:\u001b[0m invalid syntax\n"
          ]
        }
      ]
    },
    {
      "cell_type": "markdown",
      "metadata": {
        "id": "alxFsyMW2gfD",
        "colab_type": "text"
      },
      "source": [
        "### Python Data Structures\n",
        "###Lists\n",
        "-It's one of the common data structures supports by python, the list items are sepersted by comma operator and enclosed in square brackets\n",
        " \n",
        " -Example :\n",
        "        \n",
        "        list-1=[1,6,2,12,9]\n",
        "        \n",
        "        list-2=[\"Gitam\",10,12,15.5,\"Hyderabad\"]\n",
        "        "
      ]
    },
    {
      "cell_type": "code",
      "metadata": {
        "id": "9Aibi6CW2ElC",
        "colab_type": "code",
        "outputId": "bf918e15-7463-4cce-faaa-263789a061b2",
        "colab": {
          "base_uri": "https://localhost:8080/",
          "height": 136
        }
      },
      "source": [
        "lst=[1,3,7,5,89,35]\n",
        "print(lst)#access entire list\n",
        "print(lst[0])#access the first item of the list\n",
        "print(lst[1])#access the second item of list\n",
        "print(lst[-1])#access the last item of list\n",
        "print(lst[-2])#acess the last second item of list\n",
        "print(lst[1:])#considers from the second item of the list\n",
        "print(lst[1:5])#access between second to fifth item of list "
      ],
      "execution_count": 0,
      "outputs": [
        {
          "output_type": "stream",
          "text": [
            "[1, 3, 7, 5, 89, 35]\n",
            "1\n",
            "3\n",
            "35\n",
            "89\n",
            "[3, 7, 5, 89, 35]\n",
            "[3, 7, 5, 89]\n"
          ],
          "name": "stdout"
        }
      ]
    },
    {
      "cell_type": "code",
      "metadata": {
        "id": "rF_N_8wU3fFK",
        "colab_type": "code",
        "outputId": "e60c269a-15a4-4d5c-fc28-4aa5ff42bb72",
        "colab": {
          "base_uri": "https://localhost:8080/",
          "height": 51
        }
      },
      "source": [
        "# Update the list item values using the particular index(dirct referencing)\n",
        "li=[\"GITAM\",\"PYTHON\",1989,2002]\n",
        "print(li)\n",
        "li[2]=2019\n",
        "print(li)"
      ],
      "execution_count": 0,
      "outputs": [
        {
          "output_type": "stream",
          "text": [
            "['GITAM', 'PYTHON', 1989, 2002]\n",
            "['GITAM', 'PYTHON', 2019, 2002]\n"
          ],
          "name": "stdout"
        }
      ]
    },
    {
      "cell_type": "code",
      "metadata": {
        "id": "AgBfNjgY6iRt",
        "colab_type": "code",
        "outputId": "5339baed-f8d4-4979-ae11-86580db57e28",
        "colab": {
          "base_uri": "https://localhost:8080/",
          "height": 51
        }
      },
      "source": [
        "#Delete the specific item in the list\n",
        "print(li)\n",
        "del li[2]\n",
        "print(li)"
      ],
      "execution_count": 0,
      "outputs": [
        {
          "output_type": "stream",
          "text": [
            "['GITAM', 'PYTHON', 2019, 2002]\n",
            "['GITAM', 'PYTHON', 2002]\n"
          ],
          "name": "stdout"
        }
      ]
    },
    {
      "cell_type": "code",
      "metadata": {
        "id": "jA57ufxp6yQw",
        "colab_type": "code",
        "outputId": "864a6734-46b1-432a-b07b-8908442c54f1",
        "colab": {
          "base_uri": "https://localhost:8080/",
          "height": 102
        }
      },
      "source": [
        "#BASIC LIST OPERATORS\n",
        "lst1=[1,5,3,18,24]\n",
        "print(len(lst1))#len of the list\n",
        "#print(lst1*2)#Repetetion\n",
        "print(len(lst1))\n",
        "print(5 in lst1)#list item is present or not\n",
        "print(15 in lst1)#list item is present or not\n",
        "#Accessing the list items using iteration \n",
        "for x in range(len(lst1)):\n",
        "  print(lst1[x],end=\" \")"
      ],
      "execution_count": 0,
      "outputs": [
        {
          "output_type": "stream",
          "text": [
            "5\n",
            "5\n",
            "True\n",
            "False\n",
            "1 5 3 18 24 "
          ],
          "name": "stdout"
        }
      ]
    },
    {
      "cell_type": "code",
      "metadata": {
        "id": "-q7M1W7X9mE8",
        "colab_type": "code",
        "outputId": "5031ddfc-dcf1-4d5a-c439-8bb4ab4b10a5",
        "colab": {
          "base_uri": "https://localhost:8080/",
          "height": 102
        }
      },
      "source": [
        "#Functions of the list\n",
        "lst1\n",
        "print(min(lst1))# minimum element of list\n",
        "print(max(lst1))#maximum element of the list\n",
        "print(sum(lst1))#sum of the llist\n",
        "print(sum(lst1)//len(lst1))# Average of all the elements of the list\n",
        "print(sum(lst1[1::2])/len(lst1[1::2]))#Average of the alternate elements in the list"
      ],
      "execution_count": 0,
      "outputs": [
        {
          "output_type": "stream",
          "text": [
            "1\n",
            "24\n",
            "51\n",
            "10\n",
            "11.5\n"
          ],
          "name": "stdout"
        }
      ]
    },
    {
      "cell_type": "code",
      "metadata": {
        "id": "lwpTG8-O90-O",
        "colab_type": "code",
        "outputId": "06dc1187-ac9e-4842-a3cd-d4cf32a3abb2",
        "colab": {
          "base_uri": "https://localhost:8080/",
          "height": 170
        }
      },
      "source": [
        "print(lst1)\n",
        "lst1.append(33) #adding a new element at the end of the list\n",
        "print(lst1)\n",
        "lst1.insert(2,56) #adding an element at particular index\n",
        "print(lst1)\n",
        "lst1.count(33)# count the repetetion of the element in the list\n",
        "print(lst1)\n",
        "lst1.index(56)\n",
        "print(lst1)\n",
        "lst1.sort()# It's sort the list numbers in ascending order\n",
        "print(lst1)\n",
        "lst1.pop()#remove the last element from the list\n",
        "print(lst1)\n",
        "lst1.pop(1)#remove the particular element from the list\n",
        "print(lst1)\n",
        "lst2=[12,45,67]\n",
        "lst1.extend(lst2) #Merge the list2 with list1\n",
        "print(lst1)"
      ],
      "execution_count": 0,
      "outputs": [
        {
          "output_type": "stream",
          "text": [
            "[1, 4, 4, 4, 5, 6, 6, 6, 18, 24, 33, 33, 33, 33, 12, 45, 67]\n",
            "[1, 4, 4, 4, 5, 6, 6, 6, 18, 24, 33, 33, 33, 33, 12, 45, 67, 33]\n",
            "[1, 4, 56, 4, 4, 5, 6, 6, 6, 18, 24, 33, 33, 33, 33, 12, 45, 67, 33]\n",
            "[1, 4, 56, 4, 4, 5, 6, 6, 6, 18, 24, 33, 33, 33, 33, 12, 45, 67, 33]\n",
            "[1, 4, 56, 4, 4, 5, 6, 6, 6, 18, 24, 33, 33, 33, 33, 12, 45, 67, 33]\n",
            "[1, 4, 4, 4, 5, 6, 6, 6, 12, 18, 24, 33, 33, 33, 33, 33, 45, 56, 67]\n",
            "[1, 4, 4, 4, 5, 6, 6, 6, 12, 18, 24, 33, 33, 33, 33, 33, 45, 56]\n",
            "[1, 4, 4, 5, 6, 6, 6, 12, 18, 24, 33, 33, 33, 33, 33, 45, 56]\n",
            "[1, 4, 4, 5, 6, 6, 6, 12, 18, 24, 33, 33, 33, 33, 33, 45, 56, 12, 45, 67]\n"
          ],
          "name": "stdout"
        }
      ]
    },
    {
      "cell_type": "code",
      "metadata": {
        "id": "ptInpU34BDNG",
        "colab_type": "code",
        "outputId": "5347ea27-d864-46bf-b25b-058fb475d3e7",
        "colab": {
          "base_uri": "https://localhost:8080/",
          "height": 34
        }
      },
      "source": [
        "li=[1,9,8,2,6,3]\n",
        "print(li[-1:2:-2])"
      ],
      "execution_count": 0,
      "outputs": [
        {
          "output_type": "stream",
          "text": [
            "[3, 2]\n"
          ],
          "name": "stdout"
        }
      ]
    },
    {
      "cell_type": "code",
      "metadata": {
        "id": "pEbps9u5E67r",
        "colab_type": "code",
        "outputId": "ad4530c8-0738-4378-972d-86ef609d6546",
        "colab": {
          "base_uri": "https://localhost:8080/",
          "height": 51
        }
      },
      "source": [
        "#fUNCTION TO FIND THE SEOND LARGE ITEM IN THE LIST\n",
        "#INPUT:[1,19,6,2,8,18,3]\n",
        "#OUTPUT:18\n",
        "def secondlarge(li):\n",
        "  li.sort()\n",
        "  return li[-2]\n",
        "def genericlarge(li,n):\n",
        "  li.sort()\n",
        "  return li[-n]\n",
        "li=[1,19,6,2,8,18,3]\n",
        "print(secondlarge(li))\n",
        "print(genericlarge(li,4))\n"
      ],
      "execution_count": 0,
      "outputs": [
        {
          "output_type": "stream",
          "text": [
            "18\n",
            "6\n"
          ],
          "name": "stdout"
        }
      ]
    },
    {
      "cell_type": "code",
      "metadata": {
        "id": "ujHXDDr4KMpM",
        "colab_type": "code",
        "outputId": "36ed9f7b-0b5b-463f-a984-1b18ba13fa40",
        "colab": {
          "base_uri": "https://localhost:8080/",
          "height": 51
        }
      },
      "source": [
        "#Finding the second least from the list\n",
        "#INPUT:[1,19,6,2,8,18,3]\n",
        "#OUTPUT:2\n",
        "def secondleast(li):\n",
        "  li.sort()\n",
        "  return li[1]\n",
        "def genericleast(li,n):\n",
        "  li.sort()\n",
        "  return li[n-1]\n",
        "li=[1,19,6,2,8,18,3]\n",
        "print(secondleast(li))\n",
        "print(genericleast(li,4))\n",
        "\n",
        "\n"
      ],
      "execution_count": 0,
      "outputs": [
        {
          "output_type": "stream",
          "text": [
            "2\n",
            "6\n"
          ],
          "name": "stdout"
        }
      ]
    },
    {
      "cell_type": "code",
      "metadata": {
        "id": "oiP_0blgMJL4",
        "colab_type": "code",
        "outputId": "1ad72974-765c-4e32-fcc0-a77aaf565e2c",
        "colab": {
          "base_uri": "https://localhost:8080/",
          "height": 34
        }
      },
      "source": [
        "def linear(ab,cd):\n",
        "  for x in range(len(ab)):\n",
        "    if ab[x]==cd:\n",
        "      return x\n",
        "  return -1\n",
        "ab=[1,19,6,2,8,18,3]\n",
        "linear(ab,34)"
      ],
      "execution_count": 0,
      "outputs": [
        {
          "output_type": "execute_result",
          "data": {
            "text/plain": [
              "-1"
            ]
          },
          "metadata": {
            "tags": []
          },
          "execution_count": 2
        }
      ]
    },
    {
      "cell_type": "code",
      "metadata": {
        "id": "Cf91C4g_l0eW",
        "colab_type": "code",
        "outputId": "2ec82825-ccb5-4b5d-c59b-3abaa0cea334",
        "colab": {
          "base_uri": "https://localhost:8080/",
          "height": 34
        }
      },
      "source": [
        "def linear2(a,b):\n",
        "  for x in range(len(a)):\n",
        "    if a[x]==b:\n",
        "      print(x,end=\" \")\n",
        "  return\n",
        "a=[1,5,9,6,5,15,1,2,5]\n",
        "linear2(a,5)"
      ],
      "execution_count": 0,
      "outputs": [
        {
          "output_type": "stream",
          "text": [
            "1 4 8 "
          ],
          "name": "stdout"
        }
      ]
    },
    {
      "cell_type": "code",
      "metadata": {
        "id": "oUSalLjtmW45",
        "colab_type": "code",
        "outputId": "c06da72f-5c41-4543-93ca-fd2a904252b6",
        "colab": {
          "base_uri": "https://localhost:8080/",
          "height": 34
        }
      },
      "source": [
        "def linear(a,b):\n",
        "  for x in range (len(a)):\n",
        "    if a[x]==b:\n",
        "      j=0\n",
        "      while j!=x+1:\n",
        "        print(\"!\",end=\" \")\n",
        "        j=j+1\n",
        "      print(end=\" \")\n",
        "  return\n",
        "a=[1,5,9,6,5,15]\n",
        "linear(a,5)"
      ],
      "execution_count": 0,
      "outputs": [
        {
          "output_type": "stream",
          "text": [
            "! !  ! ! ! ! !  "
          ],
          "name": "stdout"
        }
      ]
    },
    {
      "cell_type": "code",
      "metadata": {
        "id": "kAHtuG4ZnMaS",
        "colab_type": "code",
        "outputId": "5ea16580-fa4d-45f1-8c9b-afd669b8cef7",
        "colab": {
          "base_uri": "https://localhost:8080/",
          "height": 34
        }
      },
      "source": [
        "def perfect(a):\n",
        "  sum=0\n",
        "  for x in range(len(a)):\n",
        "    if a[x]%5==0 and a[x]%3==0:\n",
        "      sum=sum+a[x]\n",
        "  return sum\n",
        "a=[12,45,9,18,15,36]\n",
        "perfect(a)"
      ],
      "execution_count": 0,
      "outputs": [
        {
          "output_type": "execute_result",
          "data": {
            "text/plain": [
              "60"
            ]
          },
          "metadata": {
            "tags": []
          },
          "execution_count": 8
        }
      ]
    },
    {
      "cell_type": "code",
      "metadata": {
        "id": "AqMrxdh2nrMd",
        "colab_type": "code",
        "outputId": "05fdd2ef-5f8c-486a-db05-50b4074ded0f",
        "colab": {
          "base_uri": "https://localhost:8080/",
          "height": 34
        }
      },
      "source": [
        "#Function\n",
        "#Input:List\n",
        "#output:Formatted output\n",
        "#Test case:\n",
        "#[1,2,3,4,5]--[1,3,8,15,5]\n",
        "#[6,5,2,8,2]--[6,12,40,4,2]\n",
        "def linearsearch5(li):\n",
        "  for x in range(len(li)):\n",
        "    if x==0 or x==len(li)-1:\n",
        "      print(li[x],end=\" \")\n",
        "    else:\n",
        "      print(li[x-1]*li[x+1],end=\" \")\n",
        "  return\n",
        "li=[1,2,3,4,5]\n",
        "linearsearch5(li)"
      ],
      "execution_count": 0,
      "outputs": [
        {
          "output_type": "stream",
          "text": [
            "1 3 8 15 5 "
          ],
          "name": "stdout"
        }
      ]
    },
    {
      "cell_type": "code",
      "metadata": {
        "id": "vsDvSDwipxFK",
        "colab_type": "code",
        "outputId": "089fb686-027d-46ae-9887-67e61d39fa09",
        "colab": {
          "base_uri": "https://localhost:8080/",
          "height": 34
        }
      },
      "source": [
        "#Function\n",
        "#Input:List\n",
        "#output:Formatted output\n",
        "#Test case:\n",
        "#[1,6,9,4,16,19,22]--1 9 19 22\n",
        "def linearsearch6(li):\n",
        "  for x in range(len(li)):\n",
        "    if x==0 or x==len(li)-1:\n",
        "      print(li[x],end=\" \")\n",
        "    elif li[x-1]%2==0 and li[x+1]%2==0:\n",
        "      print(li[x],end=\" \")\n",
        "      \n",
        "  return\n",
        "li=[1,6,9,4,16,19,22]\n",
        "linearsearch6(li)\n",
        "\n"
      ],
      "execution_count": 0,
      "outputs": [
        {
          "output_type": "stream",
          "text": [
            "1 9 19 22 "
          ],
          "name": "stdout"
        }
      ]
    },
    {
      "cell_type": "markdown",
      "metadata": {
        "id": "tgAhIePu-uq-",
        "colab_type": "text"
      },
      "source": [
        "###NUMBER TO LIST\n",
        "\n",
        "\n",
        "*   INPUT AS A NUMBER\n",
        "*   EXPECTED OUTPUT IS A LIST\n",
        "\n"
      ]
    },
    {
      "cell_type": "code",
      "metadata": {
        "id": "Yo0H7xaO_BcU",
        "colab_type": "code",
        "outputId": "8c1f924b-301f-4bf0-a0df-834d08e98718",
        "colab": {
          "base_uri": "https://localhost:8080/",
          "height": 34
        }
      },
      "source": [
        "#FUNCTION FOR CONVERSION---NUMBER TO LIST\n",
        "#INPUT:NUMBER\n",
        "#OUTPUT:LIST\n",
        "#TEST CASES:-\n",
        "#14569---[1,4,5,6,9]\n",
        "#1990----[1,9,9,0]\n",
        "def numberlistconversion(n):\n",
        "  li=[]\n",
        "  while n!=0:\n",
        "    r=n%10\n",
        "    li.append(r)\n",
        "    n=n//10\n",
        "  li.reverse()\n",
        "  return li\n",
        "numberlistconversion(14569)"
      ],
      "execution_count": 0,
      "outputs": [
        {
          "output_type": "execute_result",
          "data": {
            "text/plain": [
              "[1, 4, 5, 6, 9]"
            ]
          },
          "metadata": {
            "tags": []
          },
          "execution_count": 14
        }
      ]
    },
    {
      "cell_type": "markdown",
      "metadata": {
        "id": "d-4REK8aGdQ8",
        "colab_type": "text"
      },
      "source": [
        "###STRING TO LIST CONVERTER\n",
        "\n",
        "\n",
        "*   INPUT WILL BE A STRING\n",
        "*   EXPECTED OUTPUT WILL BE A LIST\n",
        "\n"
      ]
    },
    {
      "cell_type": "code",
      "metadata": {
        "id": "-HDHrm_rA9Gn",
        "colab_type": "code",
        "colab": {
          "base_uri": "https://localhost:8080/",
          "height": 34
        },
        "outputId": "37ddedfd-28f8-4b98-dabd-250173a86736"
      },
      "source": [
        "#function to convert the string to list\n",
        "#test case:-\n",
        "#\"1 2 3 4 5 6\"---[1,2,3,4,5,6]\n",
        "def stringtolist(s):\n",
        "  li=s.split()\n",
        "  numberlist=[]\n",
        "  for i in li:\n",
        "    numberlist.append(int(i))\n",
        "  return numberlist\n",
        "s=\"1 2 3 4 5 6\"\n",
        "stringtolist(s)"
      ],
      "execution_count": 15,
      "outputs": [
        {
          "output_type": "execute_result",
          "data": {
            "text/plain": [
              "[1, 2, 3, 4, 5, 6]"
            ]
          },
          "metadata": {
            "tags": []
          },
          "execution_count": 15
        }
      ]
    },
    {
      "cell_type": "markdown",
      "metadata": {
        "id": "GbF5iB8kIrd8",
        "colab_type": "text"
      },
      "source": [
        "###SORTING ALGORITHMS\n",
        "\n",
        "*  ALL THE SORTING ALGORITHMS MAKES THE LIST INTO ASCENDING ORDER\n",
        "*   BUBBLE SORT\n",
        "*  SELECTION SORT\n",
        "*  INSERTION SORT\n",
        "\n"
      ]
    },
    {
      "cell_type": "markdown",
      "metadata": {
        "id": "4OjOc7HEJHG2",
        "colab_type": "text"
      },
      "source": [
        "###BUBBLE SORT:-\n",
        "*  This agorithm compares the adj. elements, if the first element is greater\n",
        "*  thanthe second element then its required to swap the elements\n",
        "\n"
      ]
    },
    {
      "cell_type": "code",
      "metadata": {
        "id": "mLpa5W8dHhte",
        "colab_type": "code",
        "colab": {
          "base_uri": "https://localhost:8080/",
          "height": 34
        },
        "outputId": "8c432206-d7a5-4800-c250-892b4709b915"
      },
      "source": [
        "def bubblesort(li):\n",
        "  for i in range(len(li)-1):\n",
        "    for j in range (len(li)-1):\n",
        "      if li[j]>li[j+1]:\n",
        "        li[j],li[j+1]=li[j+1],li[j]\n",
        "  return li\n",
        "li=[19,1,25,6,18,3]\n",
        "bubblesort(li)"
      ],
      "execution_count": 17,
      "outputs": [
        {
          "output_type": "execute_result",
          "data": {
            "text/plain": [
              "[1, 3, 6, 18, 19, 25]"
            ]
          },
          "metadata": {
            "tags": []
          },
          "execution_count": 17
        }
      ]
    },
    {
      "cell_type": "markdown",
      "metadata": {
        "id": "tYhw21DUFF7p",
        "colab_type": "text"
      },
      "source": [
        "###ASSIGNMENT\n"
      ]
    },
    {
      "cell_type": "code",
      "metadata": {
        "id": "LfQwQcxBOTma",
        "colab_type": "code",
        "colab": {
          "base_uri": "https://localhost:8080/",
          "height": 34
        },
        "outputId": "04111514-76e5-45e1-d4bd-b6e8379d766b"
      },
      "source": [
        "list=[1,2,3,4,5]\n",
        "for i in list:\n",
        "  if i%2==0:\n",
        "    print(i,end=\" \")\n",
        "    "
      ],
      "execution_count": 1,
      "outputs": [
        {
          "output_type": "stream",
          "text": [
            "2 4 "
          ],
          "name": "stdout"
        }
      ]
    },
    {
      "cell_type": "code",
      "metadata": {
        "id": "rx0DE0ghFbsS",
        "colab_type": "code",
        "colab": {
          "base_uri": "https://localhost:8080/",
          "height": 34
        },
        "outputId": "433f8136-0726-461e-b55f-4e03f01da861"
      },
      "source": [
        "lst=[1,4,5,6,9]\n",
        "for i in lst:\n",
        "  print(i,end=\" \")"
      ],
      "execution_count": 2,
      "outputs": [
        {
          "output_type": "stream",
          "text": [
            "1 4 5 6 9 "
          ],
          "name": "stdout"
        }
      ]
    },
    {
      "cell_type": "code",
      "metadata": {
        "id": "1CTfE9wHJOhz",
        "colab_type": "code",
        "colab": {
          "base_uri": "https://localhost:8080/",
          "height": 34
        },
        "outputId": "c14f3cbe-74d4-4f8e-9072-89bdb6badbb0"
      },
      "source": [
        "list=[1,4,5,6,9]\n",
        "for i in list:\n",
        "  if i%2==0:\n",
        "    print(i*i,end=\",\")\n",
        "  else:\n",
        "    print(i,end=\",\")"
      ],
      "execution_count": 5,
      "outputs": [
        {
          "output_type": "stream",
          "text": [
            "1,16,5,36,9,"
          ],
          "name": "stdout"
        }
      ]
    },
    {
      "cell_type": "code",
      "metadata": {
        "id": "vyWaXjRJJeGU",
        "colab_type": "code",
        "colab": {
          "base_uri": "https://localhost:8080/",
          "height": 34
        },
        "outputId": "a9a2c19b-685e-4b84-e216-60fb42f8638f"
      },
      "source": [
        "def list(a):\n",
        "  b=[]\n",
        "  for j in range(len(a)):\n",
        "    a[j]=int(a[j])\n",
        "  for i in range(len(a)):\n",
        "    if i!=0 and i!=len(a)-1:\n",
        "      b.append(a[i-1]*a[i+1])\n",
        "    else:\n",
        "      b.append(a[i])\n",
        "  return b\n",
        "a=[15,19,12,16,4]\n",
        "list(a)"
      ],
      "execution_count": 7,
      "outputs": [
        {
          "output_type": "execute_result",
          "data": {
            "text/plain": [
              "[15, 180, 304, 48, 4]"
            ]
          },
          "metadata": {
            "tags": []
          },
          "execution_count": 7
        }
      ]
    },
    {
      "cell_type": "code",
      "metadata": {
        "id": "eMFccUhLKdf3",
        "colab_type": "code",
        "colab": {}
      },
      "source": [
        ""
      ],
      "execution_count": 0,
      "outputs": []
    }
  ]
}