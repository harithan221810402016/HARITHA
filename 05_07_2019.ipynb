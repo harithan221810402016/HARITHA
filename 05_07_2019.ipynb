{
  "nbformat": 4,
  "nbformat_minor": 0,
  "metadata": {
    "colab": {
      "name": "05-07-2019.ipynb",
      "version": "0.3.2",
      "provenance": [],
      "include_colab_link": true
    },
    "kernelspec": {
      "name": "python3",
      "display_name": "Python 3"
    }
  },
  "cells": [
    {
      "cell_type": "markdown",
      "metadata": {
        "id": "view-in-github",
        "colab_type": "text"
      },
      "source": [
        "<a href=\"https://colab.research.google.com/github/harithan221810402016/HARITHA/blob/master/05_07_2019.ipynb\" target=\"_parent\"><img src=\"https://colab.research.google.com/assets/colab-badge.svg\" alt=\"Open In Colab\"/></a>"
      ]
    },
    {
      "cell_type": "markdown",
      "metadata": {
        "id": "yShV81eP93KD",
        "colab_type": "text"
      },
      "source": [
        "###MARK DOWN BASICS\n",
        "#MARK DOWN BASICS\n",
        "*HELLO*\n",
        "**HELLO**\n",
        "***HELLO***\n",
        "*NORMAL\n",
        "*GOOGLE SITE --[1]:http://www.google.com\n",
        "*msn site --[2]:http://www.msn.com\n"
      ]
    },
    {
      "cell_type": "markdown",
      "metadata": {
        "id": "GL7n4nKC_MF6",
        "colab_type": "text"
      },
      "source": [
        "#PYTHON BASICS\n",
        "\n",
        "\n",
        "*   PYTHON VERSION 3.7\n",
        "*   FUNCTIONAL PROGRAM\n",
        "*  OBJECT ORIENTED PROGRAMMING\n",
        "*  SCRIPT PROGRAMMING\n",
        "\n",
        "\n"
      ]
    },
    {
      "cell_type": "code",
      "metadata": {
        "id": "GVr8apxV_tUX",
        "colab_type": "code",
        "outputId": "e77df668-2f6a-4c2b-fa16-2b6bea871578",
        "colab": {
          "base_uri": "https://localhost:8080/",
          "height": 51
        }
      },
      "source": [
        "print(\"HELLO GITAM\")\n",
        "print(\"HYDERABAD\")\n"
      ],
      "execution_count": 0,
      "outputs": [
        {
          "output_type": "stream",
          "text": [
            "HELLO GITAM\n",
            "HYDERABAD\n"
          ],
          "name": "stdout"
        }
      ]
    },
    {
      "cell_type": "code",
      "metadata": {
        "id": "osZOH28y_-wx",
        "colab_type": "code",
        "outputId": "d7fb2457-2424-4413-983b-b0a7101ee32d",
        "colab": {
          "base_uri": "https://localhost:8080/",
          "height": 34
        }
      },
      "source": [
        "print(\"HELLO GITAM\",\"|||\",end=\" \")\n",
        "print(\"HYDERABAD\")"
      ],
      "execution_count": 0,
      "outputs": [
        {
          "output_type": "stream",
          "text": [
            "HELLO GITAM ||| HYDERABAD\n"
          ],
          "name": "stdout"
        }
      ]
    },
    {
      "cell_type": "markdown",
      "metadata": {
        "id": "DEs1JDdE9zNL",
        "colab_type": "text"
      },
      "source": [
        "##ASSIGNMENT"
      ]
    },
    {
      "cell_type": "code",
      "metadata": {
        "id": "L9niivxjAvEd",
        "colab_type": "code",
        "outputId": "af1e675d-403c-4456-9f40-6593551caf22",
        "colab": {
          "base_uri": "https://localhost:8080/",
          "height": 34
        }
      },
      "source": [
        "n1=100\n",
        "print(n1)"
      ],
      "execution_count": 0,
      "outputs": [
        {
          "output_type": "stream",
          "text": [
            "100\n"
          ],
          "name": "stdout"
        }
      ]
    },
    {
      "cell_type": "markdown",
      "metadata": {
        "id": "BqCkST8cA_Ag",
        "colab_type": "text"
      },
      "source": [
        "**DATA TYPE CONVERSIONS\n",
        "\n",
        "*   int\n",
        "*   float\n",
        "*   string\n",
        "\n",
        "\n"
      ]
    },
    {
      "cell_type": "code",
      "metadata": {
        "id": "44D_WGwOBVXj",
        "colab_type": "code",
        "outputId": "a9d2e2e0-cd60-4ea0-8d72-d2eb30fae220",
        "colab": {
          "base_uri": "https://localhost:8080/",
          "height": 153
        }
      },
      "source": [
        "a=100\n",
        "s1=\"python\"\n",
        "s2=\"h\"\n",
        "f=26.07\n",
        "print(a)\n",
        "print(s1)\n",
        "print(s2)\n",
        "print(f)\n",
        "print(type(a))\n",
        "print(type(s1))\n",
        "print(type(s2))\n",
        "print(type(f))\n"
      ],
      "execution_count": 0,
      "outputs": [
        {
          "output_type": "stream",
          "text": [
            "100\n",
            "python\n",
            "h\n",
            "26.07\n",
            "<class 'int'>\n",
            "<class 'str'>\n",
            "<class 'str'>\n",
            "<class 'float'>\n"
          ],
          "name": "stdout"
        }
      ]
    },
    {
      "cell_type": "code",
      "metadata": {
        "id": "urEfATTLSz-K",
        "colab_type": "code",
        "outputId": "abe4b2e6-69e0-411f-9c9c-ebe7e893c59f",
        "colab": {
          "base_uri": "https://localhost:8080/",
          "height": 68
        }
      },
      "source": [
        "i=100\n",
        "print(type(i))\n",
        "s1=str(i)\n",
        "print(type(s1))\n",
        "f=float(i)\n",
        "print(type(f))"
      ],
      "execution_count": 0,
      "outputs": [
        {
          "output_type": "stream",
          "text": [
            "<class 'int'>\n",
            "<class 'str'>\n",
            "<class 'float'>\n"
          ],
          "name": "stdout"
        }
      ]
    },
    {
      "cell_type": "code",
      "metadata": {
        "id": "DVRA-0CIT4WQ",
        "colab_type": "code",
        "outputId": "2659e6d5-9062-4e7a-a8e1-11f62c0422bd",
        "colab": {
          "base_uri": "https://localhost:8080/",
          "height": 68
        }
      },
      "source": [
        "s1=\"100\"\n",
        "print(type(s1))\n",
        "a=int(s1)\n",
        "print(type(a))\n",
        "f=26.07\n",
        "b=int(f)\n",
        "print(type(b))"
      ],
      "execution_count": 0,
      "outputs": [
        {
          "output_type": "stream",
          "text": [
            "<class 'str'>\n",
            "<class 'int'>\n",
            "<class 'int'>\n"
          ],
          "name": "stdout"
        }
      ]
    },
    {
      "cell_type": "code",
      "metadata": {
        "id": "2h9TWfUtXA64",
        "colab_type": "code",
        "outputId": "b1f14676-4985-4805-9f7e-a149fc0b3b00",
        "colab": {
          "base_uri": "https://localhost:8080/",
          "height": 34
        }
      },
      "source": [
        "a1=26072001\n",
        "print(len(str(a1)))"
      ],
      "execution_count": 0,
      "outputs": [
        {
          "output_type": "stream",
          "text": [
            "8\n"
          ],
          "name": "stdout"
        }
      ]
    },
    {
      "cell_type": "code",
      "metadata": {
        "id": "7_6MqVZoXhK9",
        "colab_type": "code",
        "outputId": "0f5031bd-87c1-4a31-ac75-84eba0dc77af",
        "colab": {
          "base_uri": "https://localhost:8080/",
          "height": 68
        }
      },
      "source": [
        "s1=input(\"ENTER YOUR NAME\")\n",
        "print(s1)\n",
        "print(type(s1))"
      ],
      "execution_count": 0,
      "outputs": [
        {
          "output_type": "stream",
          "text": [
            "ENTER YOUR NAMEHARITHA\n",
            "HARITHA\n",
            "<class 'str'>\n"
          ],
          "name": "stdout"
        }
      ]
    },
    {
      "cell_type": "code",
      "metadata": {
        "id": "g2deFfkXZFI-",
        "colab_type": "code",
        "outputId": "13f54eca-d7f5-43bd-8d27-c9553df09217",
        "colab": {
          "base_uri": "https://localhost:8080/",
          "height": 51
        }
      },
      "source": [
        "n1=int(input(\"ENTER A NUMBER\"))\n",
        "print(n1)"
      ],
      "execution_count": 0,
      "outputs": [
        {
          "output_type": "stream",
          "text": [
            "ENTER A NUMBER 100\n",
            "100\n"
          ],
          "name": "stdout"
        }
      ]
    },
    {
      "cell_type": "code",
      "metadata": {
        "id": "POlNGWMhdalJ",
        "colab_type": "code",
        "outputId": "7895b9b9-2358-4e95-9a52-c4ca4e6e882e",
        "colab": {
          "base_uri": "https://localhost:8080/",
          "height": 51
        }
      },
      "source": [
        "print(9/4)\n",
        "print(9//4)"
      ],
      "execution_count": 0,
      "outputs": [
        {
          "output_type": "stream",
          "text": [
            "2.25\n",
            "2\n"
          ],
          "name": "stdout"
        }
      ]
    },
    {
      "cell_type": "code",
      "metadata": {
        "id": "R05WeCQGdkY4",
        "colab_type": "code",
        "outputId": "0f5098eb-891c-418b-d36d-f20d635f3086",
        "colab": {
          "base_uri": "https://localhost:8080/",
          "height": 119
        }
      },
      "source": [
        "a=16\n",
        "b=4\n",
        "print(a+b)\n",
        "print(a-b)\n",
        "print(a/b)\n",
        "print(a//b)\n",
        "print(a**b)\n",
        "print(a%b)\n"
      ],
      "execution_count": 0,
      "outputs": [
        {
          "output_type": "stream",
          "text": [
            "20\n",
            "12\n",
            "4.0\n",
            "4\n",
            "65536\n",
            "0\n"
          ],
          "name": "stdout"
        }
      ]
    },
    {
      "cell_type": "code",
      "metadata": {
        "id": "dAX9u2x4eRM6",
        "colab_type": "code",
        "colab": {}
      },
      "source": [
        ""
      ],
      "execution_count": 0,
      "outputs": []
    }
  ]
}