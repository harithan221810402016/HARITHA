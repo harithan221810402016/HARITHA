{
  "nbformat": 4,
  "nbformat_minor": 0,
  "metadata": {
    "colab": {
      "name": "Assignment-1 python.ipynb",
      "version": "0.3.2",
      "provenance": [],
      "include_colab_link": true
    },
    "kernelspec": {
      "name": "python3",
      "display_name": "Python 3"
    }
  },
  "cells": [
    {
      "cell_type": "markdown",
      "metadata": {
        "id": "view-in-github",
        "colab_type": "text"
      },
      "source": [
        "<a href=\"https://colab.research.google.com/github/harithan221810402016/HARITHA/blob/master/Assignment_1_python.ipynb\" target=\"_parent\"><img src=\"https://colab.research.google.com/assets/colab-badge.svg\" alt=\"Open In Colab\"/></a>"
      ]
    },
    {
      "cell_type": "code",
      "metadata": {
        "id": "paW5kmlOzaDB",
        "colab_type": "code",
        "colab": {
          "base_uri": "https://localhost:8080/",
          "height": 51
        },
        "outputId": "e54043dc-4f07-4ad0-dd5d-d1e6c23602bb"
      },
      "source": [
        "n=int(input(\"enter a number\"))\n",
        "if ((n%4==0)and(n%100!=0)) :\n",
        "  print(\"its a leap year\")\n",
        "else :\n",
        "  print (\"it is not leap year\")"
      ],
      "execution_count": 6,
      "outputs": [
        {
          "output_type": "stream",
          "text": [
            "enter a number2011\n",
            "it is not leap year\n"
          ],
          "name": "stdout"
        }
      ]
    },
    {
      "cell_type": "code",
      "metadata": {
        "id": "Qi7kQcNH0g6R",
        "colab_type": "code",
        "colab": {
          "base_uri": "https://localhost:8080/",
          "height": 51
        },
        "outputId": "94d58093-80c8-438c-8f9c-6c670cb5c07e"
      },
      "source": [
        "n=input(\"enter a number\")\n",
        "if n==1 :\n",
        "  print(\"monday\")\n",
        "elif n==2 :\n",
        "  print(\"tuesday\")\n",
        "elif n==3 :\n",
        "  print(\"wednesday\")\n",
        "elif n==4 :\n",
        "  print(\"thursday\")\n",
        "elif n==5 :\n",
        "  print(\"friday\")\n",
        "elif n==6 :\n",
        "  print(\"saturday\")\n",
        "elif n==7:\n",
        "  print(\"sunday\")\n",
        "else:\n",
        "  print(\"invalid\")"
      ],
      "execution_count": 10,
      "outputs": [
        {
          "output_type": "stream",
          "text": [
            "enter a number10\n",
            "invalid\n"
          ],
          "name": "stdout"
        }
      ]
    },
    {
      "cell_type": "code",
      "metadata": {
        "id": "_tIDOKTb1sP3",
        "colab_type": "code",
        "colab": {
          "base_uri": "https://localhost:8080/",
          "height": 85
        },
        "outputId": "a0b6ad15-9136-4a50-859a-e848aa735ced"
      },
      "source": [
        "a=int(input(\"enter number1\"))\n",
        "b=int(input(\"enter num 2\"))\n",
        "c=int(input(\"ener num 3\"))\n",
        "if a>b and a>c:\n",
        "      print (\"a is  greater\")\n",
        "elif b>a and b>c:\n",
        "  print(\"b is greater\")\n",
        "else :\n",
        "    print(\"c is greater\")\n"
      ],
      "execution_count": 13,
      "outputs": [
        {
          "output_type": "stream",
          "text": [
            "enter number15\n",
            "enter num 28\n",
            "ener num 33\n",
            "b is greater\n"
          ],
          "name": "stdout"
        }
      ]
    },
    {
      "cell_type": "code",
      "metadata": {
        "id": "kp0gVLm-3IRF",
        "colab_type": "code",
        "colab": {
          "base_uri": "https://localhost:8080/",
          "height": 51
        },
        "outputId": "89ff9781-4835-40ef-9955-1a0c7ad06bab"
      },
      "source": [
        "n=int(input(\"enter number\"))\n",
        "sum=0\n",
        "for i in range (n+1):\n",
        "  sum=sum+i\n",
        "print(sum)"
      ],
      "execution_count": 15,
      "outputs": [
        {
          "output_type": "stream",
          "text": [
            "enter number4\n",
            "10\n"
          ],
          "name": "stdout"
        }
      ]
    },
    {
      "cell_type": "code",
      "metadata": {
        "id": "JS-hayb34UP2",
        "colab_type": "code",
        "colab": {
          "base_uri": "https://localhost:8080/",
          "height": 51
        },
        "outputId": "951eb391-6c82-449b-a3ea-f2ee4c6a2eb6"
      },
      "source": [
        "n=int(input(\"enter number\"))\n",
        "sum=0\n",
        "for i in range (n+1):\n",
        "  if i%2!=0:\n",
        "    sum=sum+i\n",
        "print(sum)"
      ],
      "execution_count": 19,
      "outputs": [
        {
          "output_type": "stream",
          "text": [
            "enter number5\n",
            "9\n"
          ],
          "name": "stdout"
        }
      ]
    },
    {
      "cell_type": "code",
      "metadata": {
        "id": "zKQJrt5h6mXO",
        "colab_type": "code",
        "colab": {
          "base_uri": "https://localhost:8080/",
          "height": 68
        },
        "outputId": "a26d0339-b7ac-479a-c1c9-8529c9522df6"
      },
      "source": [
        "n=int(input(\"enter number\"))\n",
        "sum=0\n",
        "for i in range (n+1):\n",
        "  sum=sum+i\n",
        "  avg=(sum/n)\n",
        "print(sum)\n",
        "print(avg)"
      ],
      "execution_count": 20,
      "outputs": [
        {
          "output_type": "stream",
          "text": [
            "enter number4\n",
            "10\n",
            "2.5\n"
          ],
          "name": "stdout"
        }
      ]
    },
    {
      "cell_type": "code",
      "metadata": {
        "id": "dAR0W_5W7BQi",
        "colab_type": "code",
        "colab": {
          "base_uri": "https://localhost:8080/",
          "height": 85
        },
        "outputId": "2d3e1164-c9f7-4508-cf28-cda1ff8cdd76"
      },
      "source": [
        "n=int(input(\"enter number\"))\n",
        "i=1\n",
        "for i in range (1,n+1):\n",
        "  if n%i==0 :\n",
        "    print(i)\n"
      ],
      "execution_count": 26,
      "outputs": [
        {
          "output_type": "stream",
          "text": [
            "enter number4\n",
            "1\n",
            "2\n",
            "4\n"
          ],
          "name": "stdout"
        }
      ]
    },
    {
      "cell_type": "code",
      "metadata": {
        "id": "lDIE4Dhx8G0F",
        "colab_type": "code",
        "colab": {
          "base_uri": "https://localhost:8080/",
          "height": 85
        },
        "outputId": "8a788ce1-a163-424c-a4be-035e489ee8b7"
      },
      "source": [
        "a=int(input(\"enter side-1\"))\n",
        "b=int(input(\"enter side-2\"))\n",
        "c=int(input(\"enter side-3\"))\n",
        "sum=a+b\n",
        "if (sum==c)or(sum>=c):\n",
        "  print(\"the triangle is valid\")\n",
        "else :\n",
        "  print(\"triange is invalid\")"
      ],
      "execution_count": 28,
      "outputs": [
        {
          "output_type": "stream",
          "text": [
            "enter side-18\n",
            "enter side-24\n",
            "enter side-33\n",
            "the triangle is valid\n"
          ],
          "name": "stdout"
        }
      ]
    },
    {
      "cell_type": "code",
      "metadata": {
        "id": "9PGdN0Bl-Iy_",
        "colab_type": "code",
        "colab": {
          "base_uri": "https://localhost:8080/",
          "height": 51
        },
        "outputId": "fb9560bc-1d8e-4044-e430-69ab080641c4"
      },
      "source": [
        "t=int(input(\"enter degree temp.\"))\n",
        "f=((t)*(9/5))+32\n",
        "print(f)\n"
      ],
      "execution_count": 30,
      "outputs": [
        {
          "output_type": "stream",
          "text": [
            "enter degree temp.20\n",
            "68.0\n"
          ],
          "name": "stdout"
        }
      ]
    },
    {
      "cell_type": "code",
      "metadata": {
        "id": "k6_WJizu_RNU",
        "colab_type": "code",
        "colab": {
          "base_uri": "https://localhost:8080/",
          "height": 85
        },
        "outputId": "7cee361b-9093-4371-bdb9-8e69a68fbbbe"
      },
      "source": [
        "from math import sqrt as s\n",
        "a=float(input(\"enter root-1\"))\n",
        "b=float(input(\"enter root-2\"))\n",
        "c=float(input(\"enter root-3\"))\n",
        "d=b*b-4*a*c\n",
        "if (d==0):\n",
        "  print(\"roots are equal\",(-b/(2*a)))\n",
        "elif d>0 :\n",
        "  print(\"roots are\",(-b+s(d)/(2*a)),\",\",(b+s(d)/(2*a)))\n",
        "else :\n",
        "  print(\"roots are\",(-b/(2*a)),\"+i\",(s(-d)/(2*a)),\",\",(-b/(2*a)),\"-i\",(s(-d)/(2*a))) \n",
        "  "
      ],
      "execution_count": 4,
      "outputs": [
        {
          "output_type": "stream",
          "text": [
            "enter root-1 3\n",
            "enter root-2 4\n",
            "enter root-3 5\n",
            "roots are -0.6666666666666666 +i 1.1055415967851332 , -0.6666666666666666 -i 1.1055415967851332\n"
          ],
          "name": "stdout"
        }
      ]
    }
  ]
}