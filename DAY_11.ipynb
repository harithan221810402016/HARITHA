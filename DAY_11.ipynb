{
  "nbformat": 4,
  "nbformat_minor": 0,
  "metadata": {
    "colab": {
      "name": "DAY-11.ipynb",
      "version": "0.3.2",
      "provenance": [],
      "include_colab_link": true
    },
    "kernelspec": {
      "name": "python3",
      "display_name": "Python 3"
    }
  },
  "cells": [
    {
      "cell_type": "markdown",
      "metadata": {
        "id": "view-in-github",
        "colab_type": "text"
      },
      "source": [
        "<a href=\"https://colab.research.google.com/github/harithan221810402016/HARITHA/blob/master/DAY_11.ipynb\" target=\"_parent\"><img src=\"https://colab.research.google.com/assets/colab-badge.svg\" alt=\"Open In Colab\"/></a>"
      ]
    },
    {
      "cell_type": "markdown",
      "metadata": {
        "id": "GlFQyGh4R_bt",
        "colab_type": "text"
      },
      "source": [
        "###RGULAR EXPRESSION\n",
        "\n",
        "\n",
        "*   PATTERN MATCHING\n",
        "*   PATTERN(re) PACKAGE  \n",
        "*   ^ -   START\n",
        "*  $ -  END OF REGULAR EXPRESSION\n",
        "\n",
        "*  {} -  NO OF REPETITION\n",
        "\n",
        "*   [] -  PATTERNMATCHING\n",
        "\n",
        "*   EXPRESSION \n",
        "\n",
        "*   [0-9]--ANY DIGIT MATCHING\n",
        "      - TWO DIGIT NUMBER---(^[0-9]{2}$)\n",
        " \n",
        "     -Five Digit Number--(^[0-9]{5}$)\n",
        "\n",
        "###REGULAR EXPRESSIONS FOR CHARACTERS\n",
        "-[a-z] -- ANY LOWER CASE CHARACTERS\n",
        "\n",
        "-[A-Z] -- ANY UPPER CASE CHARACTERS\n",
        "-^[a-z]{5}$ -- It accepts 5 lower case characters\n",
        "\n",
        "- ^[A-Za-z]{8}$ -- Accept 8 characters of lower and upper characters\n",
        "\n",
        "- ^[A-Za-z0-9]{8}$ -- Acceptng any characters of lower and upper and also numbers"
      ]
    },
    {
      "cell_type": "code",
      "metadata": {
        "id": "ZX9TWUv8V49t",
        "colab_type": "code",
        "colab": {
          "base_uri": "https://localhost:8080/",
          "height": 51
        },
        "outputId": "cb1b3cff-4333-4c8e-fee8-8be9bce61dff"
      },
      "source": [
        "#FUNCTION TO TEST TWO DIGIT NMBER MATCHING\n",
        "import re\n",
        "def twodigitmatching(n):\n",
        "  pattern='^[0-9]{2}$'\n",
        "  n=str(n)\n",
        "  if re.match(pattern,n):\n",
        "    return True\n",
        "  return False\n",
        "print(twodigitmatching(12)) #True\n",
        "print(twodigitmatching(123)) #False"
      ],
      "execution_count": 4,
      "outputs": [
        {
          "output_type": "stream",
          "text": [
            "True\n",
            "False\n"
          ],
          "name": "stdout"
        }
      ]
    },
    {
      "cell_type": "code",
      "metadata": {
        "id": "JVLdokeOUtoy",
        "colab_type": "code",
        "colab": {
          "base_uri": "https://localhost:8080/",
          "height": 51
        },
        "outputId": "bbd21008-05a6-4b9f-fd9f-8cfd7c423e0a"
      },
      "source": [
        "#FUNCTION TO TEST FIVE DIGIT NMBER MATCHING\n",
        "import re\n",
        "def twodigitmatching(n):\n",
        "  pattern='^[0-9]{5}$'\n",
        "  n=str(n)\n",
        "  if re.match(pattern,n):\n",
        "    return True\n",
        "  return False\n",
        "print(twodigitmatching(123)) #False\n",
        "print(twodigitmatching(12355)) #True"
      ],
      "execution_count": 5,
      "outputs": [
        {
          "output_type": "stream",
          "text": [
            "False\n",
            "True\n"
          ],
          "name": "stdout"
        }
      ]
    },
    {
      "cell_type": "code",
      "metadata": {
        "id": "LuAGywLcZZd8",
        "colab_type": "code",
        "colab": {
          "base_uri": "https://localhost:8080/",
          "height": 51
        },
        "outputId": "8954dcfe-b4aa-4d58-80c9-236a3c5c4c96"
      },
      "source": [
        "#FUNCTION TO DEFINE TO TEST USERNAME HAVING 8 CHARACTERS \n",
        "#UPPER AND LOWER CASE\n",
        "def testusername(s):\n",
        "  pattern='^[A-Za-z]{8}$'\n",
        "  if re.match(pattern,s):\n",
        "    return True\n",
        "  return False\n",
        "print(testusername('HarithaN')) #True\n",
        "print(testusername('7haritha')) #False "
      ],
      "execution_count": 8,
      "outputs": [
        {
          "output_type": "stream",
          "text": [
            "True\n",
            "False\n"
          ],
          "name": "stdout"
        }
      ]
    },
    {
      "cell_type": "markdown",
      "metadata": {
        "id": "-LTAVsgPcssw",
        "colab_type": "text"
      },
      "source": [
        "###REGULAR EXPRESSIONS TO MATCH THE INDIAN NUMBER\n",
        "\n",
        "- 10 digits \n",
        "-  First digit will be between 6-9\n",
        "-  Rest all between 0-9\n",
        "-  Example:-9988776655\n",
        "-  RE :-^[6-9][0-9]{9}$\n",
        "-  Example:- 09988776655\n",
        "- re :-[0][6-9][0-9]{9}\n",
        "- Example:-+919988776655\n",
        "- re :-^[+][9][1][6-9][0-9]{9}"
      ]
    },
    {
      "cell_type": "code",
      "metadata": {
        "id": "LoTz8NPhaT2e",
        "colab_type": "code",
        "colab": {
          "base_uri": "https://localhost:8080/",
          "height": 51
        },
        "outputId": "f71604e2-b445-47e4-c06e-a4af01eb78e1"
      },
      "source": [
        "#Functions to test the Indian mobile number-1\n",
        "def testmobilenumber(s):\n",
        "  pattern='^[0][6-9][0-9]{9}$'\n",
        "  if re.match(pattern,s):\n",
        "    return True\n",
        "  return False\n",
        "print(testmobilenumber('09988776655'))  #True\n",
        "print(testmobilenumber('9988776655')) #false"
      ],
      "execution_count": 10,
      "outputs": [
        {
          "output_type": "stream",
          "text": [
            "True\n",
            "False\n"
          ],
          "name": "stdout"
        }
      ]
    },
    {
      "cell_type": "code",
      "metadata": {
        "id": "NtVopNmJgY_2",
        "colab_type": "code",
        "colab": {
          "base_uri": "https://localhost:8080/",
          "height": 51
        },
        "outputId": "c6b41754-2008-43d6-9c3f-1323052c1ff6"
      },
      "source": [
        "#Functions to test the Indian mobile number-2\n",
        "def testmobilenumber(s):\n",
        "  pattern='^[6-9][0-9]{9}$'\n",
        "  if re.match(pattern,s):\n",
        "    return True\n",
        "  return False\n",
        "print(testmobilenumber('09988776655'))  #False\n",
        "print(testmobilenumber('9988776655')) #True\n"
      ],
      "execution_count": 11,
      "outputs": [
        {
          "output_type": "stream",
          "text": [
            "False\n",
            "True\n"
          ],
          "name": "stdout"
        }
      ]
    },
    {
      "cell_type": "code",
      "metadata": {
        "id": "Xtx_jYA4gz_S",
        "colab_type": "code",
        "colab": {
          "base_uri": "https://localhost:8080/",
          "height": 51
        },
        "outputId": "2f158cb3-2997-4e3f-97f0-63b05c9d749b"
      },
      "source": [
        "#Functions to test the Indian mobile number-3\n",
        "def testmobilenumber(s):\n",
        "  pattern='^[+][9][1][6-9][0-9]{9}$'\n",
        "  if re.match(pattern,s):\n",
        "    return True\n",
        "  return False\n",
        "print(testmobilenumber('+919988776655'))  #True\n",
        "print(testmobilenumber('9988776655')) #False"
      ],
      "execution_count": 12,
      "outputs": [
        {
          "output_type": "stream",
          "text": [
            "True\n",
            "False\n"
          ],
          "name": "stdout"
        }
      ]
    },
    {
      "cell_type": "code",
      "metadata": {
        "id": "XjTCLhy1hpuc",
        "colab_type": "code",
        "colab": {
          "base_uri": "https://localhost:8080/",
          "height": 85
        },
        "outputId": "ce43825b-f364-4bd7-d82f-7033be523776"
      },
      "source": [
        "#Functions to test the Indian mobile number-1&2&3 patterns together\n",
        "def testmobilenumber(s):\n",
        "  pattern='^[0][6-9][0-9]{9}$|^[6-9][0-9]{9}$|^[+][9][1][6-9][0-9]{9}$'\n",
        "  if re.match(pattern,s):\n",
        "    return True\n",
        "  return False\n",
        "print(testmobilenumber('09988776655'))  #True\n",
        "print(testmobilenumber('9988776655')) #TRUE\n",
        "print(testmobilenumber('+919988776655'))  #True\n",
        "print(testmobilenumber('5988776655'))  #FALSE"
      ],
      "execution_count": 13,
      "outputs": [
        {
          "output_type": "stream",
          "text": [
            "True\n",
            "True\n",
            "True\n",
            "False\n"
          ],
          "name": "stdout"
        }
      ]
    },
    {
      "cell_type": "code",
      "metadata": {
        "id": "Y_30FdCAiYyF",
        "colab_type": "code",
        "colab": {
          "base_uri": "https://localhost:8080/",
          "height": 51
        },
        "outputId": "54efd072-4d59-43e4-c14d-0aa93b097cc0"
      },
      "source": [
        "#Regular Expression to validate roll.number\n",
        "# Example : 1521A0501\n",
        "# Example : 1521A0109\n",
        "# Example : 1521A0409\n",
        "def testrollnumber(s):\n",
        "  pattern='^[1][5][2][1][A][0][1-9][0-9]{2}$'\n",
        "  if re.match(pattern,s):\n",
        "    return True\n",
        "  return False\n",
        "print(testrollnumber('23521A345')) #False\n",
        "print(testrollnumber('1521A0501')) #True"
      ],
      "execution_count": 17,
      "outputs": [
        {
          "output_type": "stream",
          "text": [
            "False\n",
            "True\n"
          ],
          "name": "stdout"
        }
      ]
    },
    {
      "cell_type": "code",
      "metadata": {
        "id": "4xgh1-rUi6ch",
        "colab_type": "code",
        "colab": {
          "base_uri": "https://localhost:8080/",
          "height": 51
        },
        "outputId": "2226e2fb-0afd-4af4-f4ed-fc1af544645d"
      },
      "source": [
        "# Regular expression to validate password \n",
        "# Parameters: len min of 6 characters and max of 15 characcters \n",
        "# Accept lower and upper Digits and also spl characters (@,#,!)\n",
        "def validatepassword(s):\n",
        "  pattern='^[a-z@#!A-z0-9]{6,15}$'\n",
        "  if re.match(pattern,s):\n",
        "    return True\n",
        "  return False\n",
        "print(validatepassword('Haritha@123')) #True\n",
        "print(validatepassword('$123Haritha')) #False"
      ],
      "execution_count": 19,
      "outputs": [
        {
          "output_type": "stream",
          "text": [
            "True\n",
            "False\n"
          ],
          "name": "stdout"
        }
      ]
    },
    {
      "cell_type": "code",
      "metadata": {
        "id": "czLVEjQrm8M7",
        "colab_type": "code",
        "colab": {
          "base_uri": "https://localhost:8080/",
          "height": 51
        },
        "outputId": "6930c4db-b7e7-4360-cdb8-3a17088d91e6"
      },
      "source": [
        "#EXAMPLE:-USERNAME@DOMANNAME.EXTENSION\n",
        "# User name :-\n",
        " # length will be [6,15]\n",
        "  # no spls except for underscore_\n",
        "  #should not begin with underscore(_)\n",
        "  #characters set:All digits and lower case\n",
        "#DomainName:-\n",
        " # length will be[3-18]\n",
        "  # no spls characters\n",
        "  # character set: All digits are lower case\n",
        "#Extension:-\n",
        "  # length will be [2-4]\n",
        "  # no spl characters\n",
        "  # Character set: Lower case only\n",
        "def validateemail(s):\n",
        "  pattern='^[a-z_A-z0-9]{3,15}[@][a-z]{3,18}[.][a-z]{2,3}|[.][a-z]{2}$'\n",
        "  if re.match(pattern,s):\n",
        "    return True\n",
        "  return False\n",
        "print(validateemail('harithaN@gmail.com')) #True\n",
        "print(validateemail('N_haritha@yahoo.co.in')) #True"
      ],
      "execution_count": 37,
      "outputs": [
        {
          "output_type": "stream",
          "text": [
            "True\n",
            "True\n"
          ],
          "name": "stdout"
        }
      ]
    },
    {
      "cell_type": "code",
      "metadata": {
        "id": "ChjIk03poOQw",
        "colab_type": "code",
        "colab": {
          "base_uri": "https://localhost:8080/",
          "height": 51
        },
        "outputId": "1e0a8f01-05b5-4a16-de96-88464dae5897"
      },
      "source": [
        "def validatedate(s):\n",
        "  pattern='^[1-31]{2}[-][0-12]{1,2}[-][0-9]{4}$'\n",
        "  if re.match(pattern,s):\n",
        "    return True\n",
        "  return False\n",
        "print(validatedate('11-9-2019')) #True\n",
        "print(validatedate('33-13-2019')) #False"
      ],
      "execution_count": 36,
      "outputs": [
        {
          "output_type": "stream",
          "text": [
            "False\n",
            "False\n"
          ],
          "name": "stdout"
        }
      ]
    },
    {
      "cell_type": "code",
      "metadata": {
        "id": "N-mu1LtgqhcV",
        "colab_type": "code",
        "colab": {}
      },
      "source": [
        ""
      ],
      "execution_count": 0,
      "outputs": []
    }
  ]
}