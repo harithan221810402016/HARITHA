{
  "nbformat": 4,
  "nbformat_minor": 0,
  "metadata": {
    "colab": {
      "name": "Day-10.ipynb",
      "version": "0.3.2",
      "provenance": [],
      "collapsed_sections": [],
      "include_colab_link": true
    },
    "kernelspec": {
      "name": "python3",
      "display_name": "Python 3"
    }
  },
  "cells": [
    {
      "cell_type": "markdown",
      "metadata": {
        "id": "view-in-github",
        "colab_type": "text"
      },
      "source": [
        "<a href=\"https://colab.research.google.com/github/harithan221810402016/HARITHA/blob/master/Day_10.ipynb\" target=\"_parent\"><img src=\"https://colab.research.google.com/assets/colab-badge.svg\" alt=\"Open In Colab\"/></a>"
      ]
    },
    {
      "cell_type": "code",
      "metadata": {
        "id": "x8mkAQRZLxyz",
        "colab_type": "code",
        "colab": {}
      },
      "source": [
        "#CLASS"
      ],
      "execution_count": 0,
      "outputs": []
    },
    {
      "cell_type": "markdown",
      "metadata": {
        "id": "b8QhzRFCNtrl",
        "colab_type": "text"
      },
      "source": [
        "###FILE HANDLING IN PYTHON\n",
        "*   FILE:-Document Containing informayion resides on the permanant storage\n",
        "*  Different types of files:-txt,doc,pdf,csvand etc.,\n",
        "*  Input --Keyboard\n",
        "*  Output--File\n",
        "###MODES OF THE FILE I/O\n",
        "*  'w' --This mode is used for the file writing\n",
        "\n",
        "        ---If the fie is not present first it creatsthe file and write some data to it\n",
        "        ---If the file is alredy present then it rewrites the previous content"
      ]
    },
    {
      "cell_type": "code",
      "metadata": {
        "id": "5EIGqGA9PwXi",
        "colab_type": "code",
        "colab": {
          "base_uri": "https://localhost:8080/",
          "height": 34
        },
        "outputId": "9afac26b-f5c7-491f-c2d2-2c493742cc23"
      },
      "source": [
        "#function to create a file and write to file\n",
        "def createfile(filename):\n",
        "  f=open(filename,'w')\n",
        "  for i in range(10):\n",
        "    f.write('This is %d line\\n'%i)\n",
        "  print(\"file is created and data has written\")\n",
        "  return\n",
        "createfile('file1.txt')"
      ],
      "execution_count": 6,
      "outputs": [
        {
          "output_type": "stream",
          "text": [
            "file is created and data has written\n"
          ],
          "name": "stdout"
        }
      ]
    },
    {
      "cell_type": "code",
      "metadata": {
        "id": "WRuKeFWcMjgd",
        "colab_type": "code",
        "colab": {
          "base_uri": "https://localhost:8080/",
          "height": 34
        },
        "outputId": "c78fa3ec-6df2-4373-fcf4-44b78d084cc3"
      },
      "source": [
        "ls"
      ],
      "execution_count": 2,
      "outputs": [
        {
          "output_type": "stream",
          "text": [
            "file1.txt  \u001b[0m\u001b[01;34msample_data\u001b[0m/\n"
          ],
          "name": "stdout"
        }
      ]
    },
    {
      "cell_type": "code",
      "metadata": {
        "id": "6fByxT6VNWrh",
        "colab_type": "code",
        "colab": {
          "base_uri": "https://localhost:8080/",
          "height": 187
        },
        "outputId": "0a3b9dd5-cfbe-48cb-9dc8-a8c1679ce1ad"
      },
      "source": [
        "cat file1.txt"
      ],
      "execution_count": 7,
      "outputs": [
        {
          "output_type": "stream",
          "text": [
            "This is 0 line\n",
            "This is 1 line\n",
            "This is 2 line\n",
            "This is 3 line\n",
            "This is 4 line\n",
            "This is 5 line\n",
            "This is 6 line\n",
            "This is 7 line\n",
            "This is 8 line\n",
            "This is 9 line\n"
          ],
          "name": "stdout"
        }
      ]
    },
    {
      "cell_type": "code",
      "metadata": {
        "id": "4oWd-aN8PgbB",
        "colab_type": "code",
        "colab": {
          "base_uri": "https://localhost:8080/",
          "height": 34
        },
        "outputId": "98842813-48df-4cd3-e2fc-4180c0d34379"
      },
      "source": [
        "def createfile(filename):\n",
        "  f=open(filename,'w')\n",
        "  f.write('Testing')\n",
        "  print(\"file is created and data has written\")\n",
        "  return\n",
        "createfile('file1.txt')"
      ],
      "execution_count": 8,
      "outputs": [
        {
          "output_type": "stream",
          "text": [
            "file is created and data has written\n"
          ],
          "name": "stdout"
        }
      ]
    },
    {
      "cell_type": "code",
      "metadata": {
        "id": "c-ebgbuUQorm",
        "colab_type": "code",
        "colab": {
          "base_uri": "https://localhost:8080/",
          "height": 34
        },
        "outputId": "c7347ca9-51cc-47b2-aada-229b5bca4bd4"
      },
      "source": [
        "cat file1.txt"
      ],
      "execution_count": 9,
      "outputs": [
        {
          "output_type": "stream",
          "text": [
            "Testing"
          ],
          "name": "stdout"
        }
      ]
    },
    {
      "cell_type": "code",
      "metadata": {
        "id": "a6f0Iz45QrSx",
        "colab_type": "code",
        "colab": {
          "base_uri": "https://localhost:8080/",
          "height": 34
        },
        "outputId": "23d8c626-36fd-4fda-fb15-bb412d16861e"
      },
      "source": [
        "def appenddata(filename):\n",
        "  f=open(filename,'a')\n",
        "  for i in range (10):\n",
        "    f.write(\"This is %d Line\\n\"%i)\n",
        "  print(\"File created and successfully data is written\")\n",
        "  return\n",
        "appenddata('file2.txt')\n",
        "  "
      ],
      "execution_count": 31,
      "outputs": [
        {
          "output_type": "stream",
          "text": [
            "File created and successfully data is written\n"
          ],
          "name": "stdout"
        }
      ]
    },
    {
      "cell_type": "code",
      "metadata": {
        "id": "fEBAWRNKTZYp",
        "colab_type": "code",
        "colab": {
          "base_uri": "https://localhost:8080/",
          "height": 34
        },
        "outputId": "fee4a9c7-2fbe-41a3-c290-f58dc7defe3e"
      },
      "source": [
        "  def appenddata(filename):\n",
        "    f=open(filename,'a')\n",
        "    f.write(\"New Line-1\\n\")\n",
        "    f.write(\"New Line-2\\n\")\n",
        "    print(\"File created and successfully data is written\")\n",
        "    f.close()\n",
        "    return\n",
        "appenddata('file2.txt')\n",
        "  "
      ],
      "execution_count": 29,
      "outputs": [
        {
          "output_type": "stream",
          "text": [
            "File created and successfully data is written\n"
          ],
          "name": "stdout"
        }
      ]
    },
    {
      "cell_type": "code",
      "metadata": {
        "id": "vcpsFHvxTxmS",
        "colab_type": "code",
        "colab": {
          "base_uri": "https://localhost:8080/",
          "height": 459
        },
        "outputId": "8bbe47c7-b083-4e5f-a376-89359de167ba"
      },
      "source": [
        "cat file2.txt"
      ],
      "execution_count": 32,
      "outputs": [
        {
          "output_type": "stream",
          "text": [
            "This is 0 Line\n",
            "This is 1 Line\n",
            "This is 2 Line\n",
            "This is 3 Line\n",
            "This is 4 Line\n",
            "This is 5 Line\n",
            "This is 6 Line\n",
            "This is 7 Line\n",
            "This is 8 Line\n",
            "This is 9 Line\n",
            "New Line-1\n",
            "New Line-2\n",
            "New Line-1\n",
            "New Line-2\n",
            "New Line-1\n",
            "New Line-2\n",
            "This is 0 Line\n",
            "This is 1 Line\n",
            "This is 2 Line\n",
            "This is 3 Line\n",
            "This is 4 Line\n",
            "This is 5 Line\n",
            "This is 6 Line\n",
            "This is 7 Line\n",
            "This is 8 Line\n",
            "This is 9 Line\n"
          ],
          "name": "stdout"
        }
      ]
    },
    {
      "cell_type": "code",
      "metadata": {
        "id": "s92PRDv1T8Hd",
        "colab_type": "code",
        "colab": {
          "base_uri": "https://localhost:8080/",
          "height": 476
        },
        "outputId": "db4125ac-cf48-45ef-dfe8-159da9d71ca3"
      },
      "source": [
        "#Functon to read the file\n",
        "def readdata(filename):\n",
        "  f=open(filename,'r')\n",
        "  if f.mode == 'r':\n",
        "    x = f.read()\n",
        "    print(x)\n",
        "  f.close()\n",
        "  return\n",
        "readdata('file2.txt')"
      ],
      "execution_count": 33,
      "outputs": [
        {
          "output_type": "stream",
          "text": [
            "This is 0 Line\n",
            "This is 1 Line\n",
            "This is 2 Line\n",
            "This is 3 Line\n",
            "This is 4 Line\n",
            "This is 5 Line\n",
            "This is 6 Line\n",
            "This is 7 Line\n",
            "This is 8 Line\n",
            "This is 9 Line\n",
            "New Line-1\n",
            "New Line-2\n",
            "New Line-1\n",
            "New Line-2\n",
            "New Line-1\n",
            "New Line-2\n",
            "This is 0 Line\n",
            "This is 1 Line\n",
            "This is 2 Line\n",
            "This is 3 Line\n",
            "This is 4 Line\n",
            "This is 5 Line\n",
            "This is 6 Line\n",
            "This is 7 Line\n",
            "This is 8 Line\n",
            "This is 9 Line\n",
            "\n"
          ],
          "name": "stdout"
        }
      ]
    },
    {
      "cell_type": "code",
      "metadata": {
        "id": "TnGfI7umVXjt",
        "colab_type": "code",
        "colab": {
          "base_uri": "https://localhost:8080/",
          "height": 510
        },
        "outputId": "2da72126-99b3-47a4-beb3-b3e690f1e11a"
      },
      "source": [
        "#Function to read the file \n",
        "def fileoperations(filename,mode):\n",
        "  with open(filename,mode) as f:\n",
        "    if f.mode == 'r':\n",
        "      data = f.read()\n",
        "      print(data)\n",
        "    elif f.mode == 'a':\n",
        "      f.write('Data to the file')\n",
        "      print('The data successfully written')\n",
        "  f.close()\n",
        "  return\n",
        "filename = input('Enter the file name')\n",
        "mode = input('Enter the mode of the file ')\n",
        "fileoperations(filename,mode)"
      ],
      "execution_count": 34,
      "outputs": [
        {
          "output_type": "stream",
          "text": [
            "Enter the file namefile2.txt\n",
            "Enter the mode of the file r\n",
            "This is 0 Line\n",
            "This is 1 Line\n",
            "This is 2 Line\n",
            "This is 3 Line\n",
            "This is 4 Line\n",
            "This is 5 Line\n",
            "This is 6 Line\n",
            "This is 7 Line\n",
            "This is 8 Line\n",
            "This is 9 Line\n",
            "New Line-1\n",
            "New Line-2\n",
            "New Line-1\n",
            "New Line-2\n",
            "New Line-1\n",
            "New Line-2\n",
            "This is 0 Line\n",
            "This is 1 Line\n",
            "This is 2 Line\n",
            "This is 3 Line\n",
            "This is 4 Line\n",
            "This is 5 Line\n",
            "This is 6 Line\n",
            "This is 7 Line\n",
            "This is 8 Line\n",
            "This is 9 Line\n",
            "\n"
          ],
          "name": "stdout"
        }
      ]
    },
    {
      "cell_type": "code",
      "metadata": {
        "id": "2DkV4pBDYdRP",
        "colab_type": "code",
        "colab": {
          "base_uri": "https://localhost:8080/",
          "height": 68
        },
        "outputId": "24ea3cb2-79ea-41de-c2eb-b6e7ec1122f5"
      },
      "source": [
        "#Data analysis\n",
        "# Word Count\n",
        "def wordcount(filename,word):\n",
        "  with open(filename,'r') as f:\n",
        "    if f.mode =='r':\n",
        "      x=f.read()\n",
        "      li= x.split() # It splits the string with whtespace\n",
        "  cnt=li.count(word)\n",
        "  return cnt\n",
        "filename = input('enter the file name : ')\n",
        "word=input('enter the word : ') # which word count u want\n",
        "wordcount(filename,word)"
      ],
      "execution_count": 36,
      "outputs": [
        {
          "output_type": "stream",
          "text": [
            "enter the file name : file2.txt\n",
            "enter the word : Line\n"
          ],
          "name": "stdout"
        },
        {
          "output_type": "execute_result",
          "data": {
            "text/plain": [
              "20"
            ]
          },
          "metadata": {
            "tags": []
          },
          "execution_count": 36
        }
      ]
    },
    {
      "cell_type": "code",
      "metadata": {
        "id": "LqQb79AnbJmH",
        "colab_type": "code",
        "colab": {
          "base_uri": "https://localhost:8080/",
          "height": 51
        },
        "outputId": "8b825d0c-3d74-41a8-8f93-109938703e9a"
      },
      "source": [
        "# Character count from the given file\n",
        "def charcount(filename):\n",
        "  with open (filename,'r') as f:\n",
        "    if f.mode == 'r':\n",
        "      x= f.read()\n",
        "      li=list(x) # Convert the string --Char\n",
        "  return len(li)\n",
        "filename=input('Enter the filename : ')\n",
        "charcount(filename)"
      ],
      "execution_count": 37,
      "outputs": [
        {
          "output_type": "stream",
          "text": [
            "Enter the flename : file2.txt\n"
          ],
          "name": "stdout"
        },
        {
          "output_type": "execute_result",
          "data": {
            "text/plain": [
              "366"
            ]
          },
          "metadata": {
            "tags": []
          },
          "execution_count": 37
        }
      ]
    },
    {
      "cell_type": "code",
      "metadata": {
        "id": "sKlTYk7lrV4A",
        "colab_type": "code",
        "colab": {
          "base_uri": "https://localhost:8080/",
          "height": 51
        },
        "outputId": "374caf99-a8d8-4efb-9a19-d3e09a3ce2b2"
      },
      "source": [
        "#Function to find the no of lines in the input file\n",
        "# Input: file name(file2.txt)\n",
        "#Output: No of lines(26)\n",
        "def countthelines(filename):\n",
        "  with open (filename,'r') as f:\n",
        "    if f.mode == 'r':\n",
        "      x = f.read()\n",
        "      li=x.split(\"\\n\")\n",
        "  return len(li)\n",
        "filename=input('Enter the file name : ')\n",
        "countthelines(filename)"
      ],
      "execution_count": 39,
      "outputs": [
        {
          "output_type": "stream",
          "text": [
            "Enter the file name : file2.txt\n"
          ],
          "name": "stdout"
        },
        {
          "output_type": "execute_result",
          "data": {
            "text/plain": [
              "27"
            ]
          },
          "metadata": {
            "tags": []
          },
          "execution_count": 39
        }
      ]
    },
    {
      "cell_type": "code",
      "metadata": {
        "id": "aIdUhGlxtxoE",
        "colab_type": "code",
        "colab": {
          "base_uri": "https://localhost:8080/",
          "height": 51
        },
        "outputId": "74234e3a-a097-4af7-be2c-5c4c2003ba06"
      },
      "source": [
        "#Function to print the upper and lower character \n",
        "def casecount(filename):\n",
        "  cntupper=0\n",
        "  cntlower=0\n",
        "  with open(filename,'r') as f:\n",
        "    if f.mode =='r':\n",
        "      x=f.read()\n",
        "      li=list(x)\n",
        "  for i in li:\n",
        "    if i.isupper():\n",
        "      cntupper+=1 \n",
        "    elif i.islower():\n",
        "      cntlower+=1\n",
        "  output='Upper case={0},Lower Case={1}'.format(cntupper,cntlower)\n",
        "  return output\n",
        "filename=input('Enter the name of filename : ')\n",
        "casecount(filename)\n"
      ],
      "execution_count": 42,
      "outputs": [
        {
          "output_type": "stream",
          "text": [
            "Enter the name of filename : file2.txt\n"
          ],
          "name": "stdout"
        },
        {
          "output_type": "execute_result",
          "data": {
            "text/plain": [
              "'Upper case=52,Lower Case=190'"
            ]
          },
          "metadata": {
            "tags": []
          },
          "execution_count": 42
        }
      ]
    },
    {
      "cell_type": "code",
      "metadata": {
        "id": "Cxt2ONrhvANi",
        "colab_type": "code",
        "colab": {}
      },
      "source": [
        "# math,random,os\n",
        "#-os package t contains the certain methods which work with os"
      ],
      "execution_count": 0,
      "outputs": []
    },
    {
      "cell_type": "code",
      "metadata": {
        "id": "iXzdq2wY0Su7",
        "colab_type": "code",
        "colab": {
          "base_uri": "https://localhost:8080/",
          "height": 34
        },
        "outputId": "38416d61-de28-42ff-ffbe-9e34cf07c5f7"
      },
      "source": [
        "ls\n"
      ],
      "execution_count": 43,
      "outputs": [
        {
          "output_type": "stream",
          "text": [
            "file1.txt  file2.txt  \u001b[0m\u001b[01;34msample_data\u001b[0m/\n"
          ],
          "name": "stdout"
        }
      ]
    },
    {
      "cell_type": "code",
      "metadata": {
        "id": "lMa6mSLx2U6J",
        "colab_type": "code",
        "colab": {}
      },
      "source": [
        "#--Older version Python--os.listdir()\n",
        "--New VersionPython--os.scandir() and pathlib.Path()"
      ],
      "execution_count": 0,
      "outputs": []
    },
    {
      "cell_type": "code",
      "metadata": {
        "id": "__TYKoRmOVdV",
        "colab_type": "code",
        "colab": {}
      },
      "source": [
        "mkdir pythonprogramming"
      ],
      "execution_count": 0,
      "outputs": []
    },
    {
      "cell_type": "code",
      "metadata": {
        "id": "K7dXMK_pOfND",
        "colab_type": "code",
        "colab": {
          "base_uri": "https://localhost:8080/",
          "height": 34
        },
        "outputId": "0bdc6103-4868-47bf-f36e-e033b28df381"
      },
      "source": [
        "ls"
      ],
      "execution_count": 47,
      "outputs": [
        {
          "output_type": "stream",
          "text": [
            "file1.txt  file2.txt  \u001b[0m\u001b[01;34mpythonprogramming\u001b[0m/  \u001b[01;34msample_data\u001b[0m/\n"
          ],
          "name": "stdout"
        }
      ]
    },
    {
      "cell_type": "code",
      "metadata": {
        "id": "0-P9KgipOrnv",
        "colab_type": "code",
        "colab": {}
      },
      "source": [
        "dirPath='pythonprogramming/'\n",
        "with os.scandir(dirPath) as f:\n",
        "  for i in f:\n",
        "    if i.is_file():\n",
        "      print(i.name)"
      ],
      "execution_count": 0,
      "outputs": []
    },
    {
      "cell_type": "code",
      "metadata": {
        "id": "ZIv7RZAGP0yd",
        "colab_type": "code",
        "colab": {
          "base_uri": "https://localhost:8080/",
          "height": 34
        },
        "outputId": "f5131008-aa31-4e57-bd24-b00edc525992"
      },
      "source": [
        "ls"
      ],
      "execution_count": 51,
      "outputs": [
        {
          "output_type": "stream",
          "text": [
            "file1.txt  file2.txt  \u001b[0m\u001b[01;34mpythonprogramming\u001b[0m/  \u001b[01;34msample_data\u001b[0m/\n"
          ],
          "name": "stdout"
        }
      ]
    },
    {
      "cell_type": "markdown",
      "metadata": {
        "id": "6Tv42LeVRhm9",
        "colab_type": "text"
      },
      "source": [
        "###Listing of sub-directories\n"
      ]
    },
    {
      "cell_type": "code",
      "metadata": {
        "id": "d6OEJ1vXP9Ys",
        "colab_type": "code",
        "colab": {}
      },
      "source": [
        "dirpath = 'pythonprogramming/'\n",
        "for i in os.listdir(dirpath):\n",
        "  if os.path.isdir(os.path.join(dirpath,i)):\n",
        "    print(i)"
      ],
      "execution_count": 0,
      "outputs": []
    },
    {
      "cell_type": "code",
      "metadata": {
        "id": "qEBWVd96SHDE",
        "colab_type": "code",
        "colab": {}
      },
      "source": [
        "from pathlib import Path\n",
        "dirpath = Path('pythonprogramming/')\n",
        "for i in dirpath.iterdir():\n",
        "  if i.is_dir():\n",
        "    print(i.name)"
      ],
      "execution_count": 0,
      "outputs": []
    },
    {
      "cell_type": "markdown",
      "metadata": {
        "id": "CcWBfcxkT-O5",
        "colab_type": "text"
      },
      "source": [
        "###Creating a single Directory"
      ]
    },
    {
      "cell_type": "code",
      "metadata": {
        "id": "czQRsvWHSj7p",
        "colab_type": "code",
        "colab": {}
      },
      "source": [
        "os.mkdir('SingleDirectory')"
      ],
      "execution_count": 0,
      "outputs": []
    },
    {
      "cell_type": "code",
      "metadata": {
        "id": "xSMNFT5NUJH0",
        "colab_type": "code",
        "colab": {
          "base_uri": "https://localhost:8080/",
          "height": 34
        },
        "outputId": "65411349-fefb-4245-cf0d-7ad5c1c86744"
      },
      "source": [
        "ls"
      ],
      "execution_count": 57,
      "outputs": [
        {
          "output_type": "stream",
          "text": [
            "file1.txt  file2.txt  \u001b[0m\u001b[01;34mpythonprogramming\u001b[0m/  \u001b[01;34msample_data\u001b[0m/  \u001b[01;34mSingleDirectory\u001b[0m/\n"
          ],
          "name": "stdout"
        }
      ]
    },
    {
      "cell_type": "code",
      "metadata": {
        "id": "dJaOwiciUKH-",
        "colab_type": "code",
        "colab": {}
      },
      "source": [
        "import pathlib\n",
        "p=pathlib.Path('TestFolder')\n",
        "p.mkdir()"
      ],
      "execution_count": 0,
      "outputs": []
    },
    {
      "cell_type": "code",
      "metadata": {
        "id": "ms0lEYTLUYyZ",
        "colab_type": "code",
        "colab": {
          "base_uri": "https://localhost:8080/",
          "height": 51
        },
        "outputId": "377cebb6-f6d0-4139-a5ce-1f06b389424f"
      },
      "source": [
        "ls"
      ],
      "execution_count": 60,
      "outputs": [
        {
          "output_type": "stream",
          "text": [
            "file1.txt  \u001b[0m\u001b[01;34mpythonprogramming\u001b[0m/  \u001b[01;34mSingleDirectory\u001b[0m/\n",
            "file2.txt  \u001b[01;34msample_data\u001b[0m/        \u001b[01;34mTestFolder\u001b[0m/\n"
          ],
          "name": "stdout"
        }
      ]
    },
    {
      "cell_type": "markdown",
      "metadata": {
        "id": "nFoGVLL5WCV5",
        "colab_type": "text"
      },
      "source": [
        "### Creating Multiple Directories"
      ]
    },
    {
      "cell_type": "code",
      "metadata": {
        "id": "30bO8jTLUgu7",
        "colab_type": "code",
        "colab": {}
      },
      "source": [
        "import os\n",
        "os.makedirs('2019/July/11')"
      ],
      "execution_count": 0,
      "outputs": []
    },
    {
      "cell_type": "code",
      "metadata": {
        "id": "3udro0AhXweU",
        "colab_type": "code",
        "colab": {
          "base_uri": "https://localhost:8080/",
          "height": 51
        },
        "outputId": "80a8a4a6-2092-4c8b-f96d-495f3a5d5356"
      },
      "source": [
        "ls"
      ],
      "execution_count": 62,
      "outputs": [
        {
          "output_type": "stream",
          "text": [
            "\u001b[0m\u001b[01;34m2019\u001b[0m/      file2.txt           \u001b[01;34msample_data\u001b[0m/      \u001b[01;34mTestFolder\u001b[0m/\n",
            "file1.txt  \u001b[01;34mpythonprogramming\u001b[0m/  \u001b[01;34mSingleDirectory\u001b[0m/\n"
          ],
          "name": "stdout"
        }
      ]
    },
    {
      "cell_type": "markdown",
      "metadata": {
        "id": "0xiGeGNwZCEY",
        "colab_type": "text"
      },
      "source": [
        "###File name Pattern Matching"
      ]
    },
    {
      "cell_type": "code",
      "metadata": {
        "id": "sx8haj0HXx2O",
        "colab_type": "code",
        "colab": {
          "base_uri": "https://localhost:8080/",
          "height": 34
        },
        "outputId": "b9a2ffde-610e-42db-f118-dc9db339164c"
      },
      "source": [
        "cd .."
      ],
      "execution_count": 63,
      "outputs": [
        {
          "output_type": "stream",
          "text": [
            "/\n"
          ],
          "name": "stdout"
        }
      ]
    },
    {
      "cell_type": "code",
      "metadata": {
        "id": "QrmjMDSMZpzj",
        "colab_type": "code",
        "colab": {}
      },
      "source": [
        "import os\n",
        "dirpath = 'pythonprogramming/'\n",
        "for f_name in os.listdir(dirpath):\n",
        "  if f_name.endswitch('.ipynb'):\n",
        "    print(f_name)"
      ],
      "execution_count": 0,
      "outputs": []
    },
    {
      "cell_type": "code",
      "metadata": {
        "id": "PYSWS1WkZ__s",
        "colab_type": "code",
        "colab": {}
      },
      "source": [
        "import os\n",
        "dirpath = 'sample_data/'\n",
        "for f_name in os.listdir(dirpath):\n",
        "  if f_name.startswitch('f'):\n",
        "    print(f_name)"
      ],
      "execution_count": 0,
      "outputs": []
    },
    {
      "cell_type": "markdown",
      "metadata": {
        "id": "gry2bIvJaq4D",
        "colab_type": "text"
      },
      "source": [
        "###Deleting files and Directories"
      ]
    },
    {
      "cell_type": "code",
      "metadata": {
        "id": "UQOjSH4_bHyZ",
        "colab_type": "code",
        "colab": {
          "base_uri": "https://localhost:8080/",
          "height": 34
        },
        "outputId": "eb97244a-cb7c-4e77-81be-3938bacf2654"
      },
      "source": [
        "cd .."
      ],
      "execution_count": 68,
      "outputs": [
        {
          "output_type": "stream",
          "text": [
            "/\n"
          ],
          "name": "stdout"
        }
      ]
    },
    {
      "cell_type": "code",
      "metadata": {
        "id": "2czvV2OnbN5i",
        "colab_type": "code",
        "colab": {}
      },
      "source": [
        "import os\n",
        "data_file='2019'\n",
        "os.remove(data_file)"
      ],
      "execution_count": 0,
      "outputs": []
    },
    {
      "cell_type": "code",
      "metadata": {
        "id": "AeX6DksWdCCU",
        "colab_type": "code",
        "colab": {}
      },
      "source": [
        "data_dir='Test Folder'\n",
        "os.rmdir(data_dir)"
      ],
      "execution_count": 0,
      "outputs": []
    },
    {
      "cell_type": "code",
      "metadata": {
        "id": "3xnLfb_ldLn1",
        "colab_type": "code",
        "colab": {
          "base_uri": "https://localhost:8080/",
          "height": 85
        },
        "outputId": "822e12ef-a4e3-4bee-9e06-7f8b9880e165"
      },
      "source": [
        "ls"
      ],
      "execution_count": 72,
      "outputs": [
        {
          "output_type": "stream",
          "text": [
            "\u001b[0m\u001b[01;34mbin\u001b[0m/      \u001b[01;34mdev\u001b[0m/   \u001b[01;34mlib32\u001b[0m/  \u001b[01;34mopt\u001b[0m/   \u001b[01;34msbin\u001b[0m/   \u001b[01;34mtensorflow-2.0.0b1\u001b[0m/  \u001b[01;34mvar\u001b[0m/\n",
            "\u001b[01;34mboot\u001b[0m/     \u001b[01;34metc\u001b[0m/   \u001b[01;34mlib64\u001b[0m/  \u001b[01;34mproc\u001b[0m/  \u001b[01;34msrv\u001b[0m/    \u001b[30;42mtmp\u001b[0m/\n",
            "\u001b[01;34mcontent\u001b[0m/  \u001b[01;34mhome\u001b[0m/  \u001b[01;34mmedia\u001b[0m/  \u001b[01;34mroot\u001b[0m/  \u001b[01;34mswift\u001b[0m/  \u001b[01;34mtools\u001b[0m/\n",
            "\u001b[01;34mdatalab\u001b[0m/  \u001b[01;34mlib\u001b[0m/   \u001b[01;34mmnt\u001b[0m/    \u001b[01;34mrun\u001b[0m/   \u001b[01;34msys\u001b[0m/    \u001b[01;34musr\u001b[0m/\n"
          ],
          "name": "stdout"
        }
      ]
    },
    {
      "cell_type": "markdown",
      "metadata": {
        "id": "AOsw8ZIzhdmC",
        "colab_type": "text"
      },
      "source": [
        "###Regular Expressions\n",
        "* Used to specific Pattern matching\n",
        "*  Symbolic notations of pattern\n",
        "*  Patterns(RE) represents set of the values\n",
        "* [0-9] Any digits"
      ]
    },
    {
      "cell_type": "markdown",
      "metadata": {
        "id": "2SOb0kkStSmA",
        "colab_type": "text"
      },
      "source": [
        "10 Functions from each package\n",
        "\n",
        "os\n",
        "pathlib\n",
        "shutil\n",
        "**copy,movingand rename the file\n",
        "**Reading Zip files\n",
        "python.org"
      ]
    },
    {
      "cell_type": "code",
      "metadata": {
        "id": "MGqwQWOJiSdv",
        "colab_type": "code",
        "colab": {}
      },
      "source": [
        ""
      ],
      "execution_count": 0,
      "outputs": []
    }
  ]
}