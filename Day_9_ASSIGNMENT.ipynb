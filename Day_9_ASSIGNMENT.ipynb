{
  "nbformat": 4,
  "nbformat_minor": 0,
  "metadata": {
    "colab": {
      "name": "Day-9 ASSIGNMENT.ipynb",
      "version": "0.3.2",
      "provenance": [],
      "collapsed_sections": [],
      "include_colab_link": true
    },
    "kernelspec": {
      "name": "python3",
      "display_name": "Python 3"
    }
  },
  "cells": [
    {
      "cell_type": "markdown",
      "metadata": {
        "id": "view-in-github",
        "colab_type": "text"
      },
      "source": [
        "<a href=\"https://colab.research.google.com/github/harithan221810402016/HARITHA/blob/master/Day_9_ASSIGNMENT.ipynb\" target=\"_parent\"><img src=\"https://colab.research.google.com/assets/colab-badge.svg\" alt=\"Open In Colab\"/></a>"
      ]
    },
    {
      "cell_type": "markdown",
      "metadata": {
        "id": "YtQMbzXNU0Cj",
        "colab_type": "text"
      },
      "source": [
        "ASSIGNMENT"
      ]
    },
    {
      "cell_type": "code",
      "metadata": {
        "id": "Q5TIwP95U4OE",
        "colab_type": "code",
        "colab": {
          "base_uri": "https://localhost:8080/",
          "height": 51
        },
        "outputId": "e6aa0ea0-d5de-4815-c40b-c530b0c127fd"
      },
      "source": [
        "#Series Generations:-  1, 3, 9, 27, 81, ...\n",
        "n=int(input(\"enter a number\"))\n",
        "for i in range (0,n):\n",
        "  a=3**i\n",
        "  print(a,end=\" \")"
      ],
      "execution_count": 1,
      "outputs": [
        {
          "output_type": "stream",
          "text": [
            "enter a number5\n",
            "1 3 9 27 81 "
          ],
          "name": "stdout"
        }
      ]
    },
    {
      "cell_type": "code",
      "metadata": {
        "id": "vKScx2KvVQcy",
        "colab_type": "code",
        "colab": {
          "base_uri": "https://localhost:8080/",
          "height": 51
        },
        "outputId": "8da78018-721b-46a5-c8a6-0e229ddeff74"
      },
      "source": [
        "#Series Generations:-  1, 2, 4, 8, 16, 32, 64, 128, 256, ...\n",
        "n=int(input(\"enter a number\"))\n",
        "print(\"1,\",end=\" \")\n",
        "for i in range(1,n):\n",
        "    \n",
        "    a=i*2\n",
        "    print(a,end=\", \")"
      ],
      "execution_count": 31,
      "outputs": [
        {
          "output_type": "stream",
          "text": [
            "enter a number 5\n",
            "1, 2, 4, 6, 8, "
          ],
          "name": "stdout"
        }
      ]
    },
    {
      "cell_type": "code",
      "metadata": {
        "id": "YAhawGEwVqBL",
        "colab_type": "code",
        "colab": {
          "base_uri": "https://localhost:8080/",
          "height": 51
        },
        "outputId": "9287381c-9fd0-4566-eb4c-0cf87718763d"
      },
      "source": [
        "#Series Generations:-  1 3 4 8 15 27 50 92 169 311\n",
        "n=int(input(\"enter a number\"))\n",
        "a=1\n",
        "b=3\n",
        "c=4\n",
        "print(\"1 3 4 \",end=\" \")\n",
        "for i in range(1,n+1):\n",
        "  sum=a+b+c\n",
        "  print(sum,end=\" \")\n",
        "  a=b\n",
        "  b=c\n",
        "  c=sum"
      ],
      "execution_count": 27,
      "outputs": [
        {
          "output_type": "stream",
          "text": [
            "enter a number5\n",
            "1 3 4  8 15 27 50 92 "
          ],
          "name": "stdout"
        }
      ]
    },
    {
      "cell_type": "code",
      "metadata": {
        "id": "fewcQUGrWuNv",
        "colab_type": "code",
        "colab": {
          "base_uri": "https://localhost:8080/",
          "height": 51
        },
        "outputId": "5649d4eb-e93f-431c-e286-2457c95d57cd"
      },
      "source": [
        "\n",
        "#Series Generations:-  1! + 2! + 3! + 4! + 5! + ... + n!\n",
        "n=int(input(\"input a number please \"))\n",
        "fact=1\n",
        "for i in range (2,n+1) :\n",
        "  fact=i*fact\n",
        "  print(fact,end=\"+\")"
      ],
      "execution_count": 56,
      "outputs": [
        {
          "output_type": "stream",
          "text": [
            "input a number please 5\n",
            "2+6+24+120+"
          ],
          "name": "stdout"
        }
      ]
    },
    {
      "cell_type": "code",
      "metadata": {
        "id": "DQEpZ5f0XVz0",
        "colab_type": "code",
        "colab": {
          "base_uri": "https://localhost:8080/",
          "height": 51
        },
        "outputId": "967f0988-1375-4463-97bc-2ef5f02eb40e"
      },
      "source": [
        "#Series Generations:-  2 15 41 80 132 197 275 366 470 587\n",
        "n=int(input(\"input a number please \"))\n",
        "sum=2\n",
        "for i in range(0,n+1):\n",
        "  sum=sum+(i*13)\n",
        "  print(sum,end=\" \")\n",
        "  "
      ],
      "execution_count": 32,
      "outputs": [
        {
          "output_type": "stream",
          "text": [
            "input a number please 5\n",
            "2 15 41 80 132 197 "
          ],
          "name": "stdout"
        }
      ]
    },
    {
      "cell_type": "code",
      "metadata": {
        "id": "_hgvQcbfctPF",
        "colab_type": "code",
        "colab": {
          "base_uri": "https://localhost:8080/",
          "height": 51
        },
        "outputId": "64fc1bea-fa4c-4042-cb7a-b0763ced9c99"
      },
      "source": [
        "# Series Generations:-  1,9,17, 33,49,73,97\n",
        "n=int(input(\"input a number please \"))\n",
        "a=8\n",
        "b=1\n",
        "print(\"1\",end=\" \")\n",
        "for i in range(1,n+1):\n",
        "  for j in  range(0,2):\n",
        "    b=b+a\n",
        "    print(b,end=\" \")\n",
        "  a=a+8\n",
        "  \n",
        "  "
      ],
      "execution_count": 37,
      "outputs": [
        {
          "output_type": "stream",
          "text": [
            "input a number please 5\n",
            "1 9 17 33 49 73 97 129 161 201 241 "
          ],
          "name": "stdout"
        }
      ]
    },
    {
      "cell_type": "code",
      "metadata": {
        "id": "TRxCx1hceDt_",
        "colab_type": "code",
        "colab": {
          "base_uri": "https://localhost:8080/",
          "height": 119
        },
        "outputId": "63acb2fa-1fee-4062-d2ad-9b7e03d197f6"
      },
      "source": [
        "#The program must accept an integer N the input. The program must print the desired pattern as shown in the Example Input/Output section.Boundary Condition(s):\n",
        " # 1 <= N <= 10^8\n",
        " #Input Format:41325\n",
        "def o(n):\n",
        "    for i in range (len(n)):\n",
        "        n[i]=int(n[i])\n",
        "    for i in range (len(n)):\n",
        "        for j in range (n[i]):\n",
        "            print(\"*\",end=\"\")\n",
        "        print(\"\")\n",
        "    return\n",
        "x=input(\"enter num \")\n",
        "o(list(x))"
      ],
      "execution_count": 60,
      "outputs": [
        {
          "output_type": "stream",
          "text": [
            "enter num41325\n",
            "****\n",
            "*\n",
            "***\n",
            "**\n",
            "*****\n"
          ],
          "name": "stdout"
        }
      ]
    },
    {
      "cell_type": "code",
      "metadata": {
        "id": "D_ckfZZlEY18",
        "colab_type": "code",
        "colab": {
          "base_uri": "https://localhost:8080/",
          "height": 34
        },
        "outputId": "9c4ee8d6-c726-4dad-ef6a-3695b94a3290"
      },
      "source": [
        "#Your Program has to read one string as well as one character and you need to remove the all the occurance of the character.\n",
        "\n",
        "#HebeonTech,e -- HbonTch\n",
        "s1=\"HebeonTech,e\"\n",
        "s2=s1.split('e')\n",
        "print(\"\".join(s2))"
      ],
      "execution_count": 59,
      "outputs": [
        {
          "output_type": "stream",
          "text": [
            "HbonTch,\n"
          ],
          "name": "stdout"
        }
      ]
    },
    {
      "cell_type": "code",
      "metadata": {
        "id": "tKRCJ07nEyZY",
        "colab_type": "code",
        "colab": {
          "base_uri": "https://localhost:8080/",
          "height": 119
        },
        "outputId": "d24203ab-cd58-40f8-cffa-3f66ef86fcc7"
      },
      "source": [
        "##The program must accept an integer N the input. The program must print the desired pattern as shown in the Example Input/Output section.Boundary Condition(s):\n",
        " # 1 <= N <= 10^8\n",
        " #Input Format:60710\n",
        "def o(n):\n",
        "    for i in range (len(n)):\n",
        "        n[i]=int(n[i])\n",
        "    for i in range (len(n)):\n",
        "        for j in range (n[i]):\n",
        "            print(\"*\",end=\"\")\n",
        "        print(\"\")\n",
        "    return\n",
        "x=input(\"enter num \")\n",
        "o(list(x))"
      ],
      "execution_count": 61,
      "outputs": [
        {
          "output_type": "stream",
          "text": [
            "enter num 60710\n",
            "******\n",
            "\n",
            "*******\n",
            "*\n",
            "\n"
          ],
          "name": "stdout"
        }
      ]
    },
    {
      "cell_type": "code",
      "metadata": {
        "id": "ajrWPDqaLRYb",
        "colab_type": "code",
        "colab": {
          "base_uri": "https://localhost:8080/",
          "height": 34
        },
        "outputId": "aaea44a6-be2e-42fa-c4ee-28b9c8ea29c0"
      },
      "source": [
        "#Your Program need to accept two strings and generate the output in merging of both strings.\n",
        "\n",
        "#Input1: abc xyz----axbycz\n",
        "li=[\"a\",\"b\",\"c\",\"x\",\"y\",\"z\"]\n",
        "print(\"%s%s%s%s%s%s\"%(li[0],li[3],li[1],li[4],li[2],li[5]))\n"
      ],
      "execution_count": 62,
      "outputs": [
        {
          "output_type": "stream",
          "text": [
            "axbycz\n"
          ],
          "name": "stdout"
        }
      ]
    },
    {
      "cell_type": "code",
      "metadata": {
        "id": "IHJJgTU1LtqJ",
        "colab_type": "code",
        "colab": {
          "base_uri": "https://localhost:8080/",
          "height": 34
        },
        "outputId": "f04532aa-97be-41a4-ba42-a9a1ada1d1b2"
      },
      "source": [
        "#Input2: ab ssd--- asbsd\n",
        "li=[\"a\",\"b\",\"s\",\"s\",\"d\"]\n",
        "print(\"%s%s%s%s%s\"%(li[0],li[2],li[1],li[3],li[4]))\n",
        "\n"
      ],
      "execution_count": 63,
      "outputs": [
        {
          "output_type": "stream",
          "text": [
            "asbsd\n"
          ],
          "name": "stdout"
        }
      ]
    },
    {
      "cell_type": "code",
      "metadata": {
        "id": "-d9vt1fNMJ3I",
        "colab_type": "code",
        "colab": {
          "base_uri": "https://localhost:8080/",
          "height": 34
        },
        "outputId": "f948cf04-3003-4885-c5ad-9e024dbd1771"
      },
      "source": [
        "#Input3: abcd ssi---asbscid\n",
        "li=[\"a\",\"b\",\"c\",\"d\",\"s\",\"s\",\"i\"]\n",
        "print(\"%s%s%s%s%s%s%s\"%(li[0],li[4],li[1],li[5],li[2],li[6],li[3]))\n",
        "\n",
        " "
      ],
      "execution_count": 65,
      "outputs": [
        {
          "output_type": "stream",
          "text": [
            "asbscid\n"
          ],
          "name": "stdout"
        }
      ]
    },
    {
      "cell_type": "code",
      "metadata": {
        "id": "c5PAOMxSOiwU",
        "colab_type": "code",
        "colab": {
          "base_uri": "https://localhost:8080/",
          "height": 51
        },
        "outputId": "1e4c2cd4-c2b7-40c7-9ce6-7f4d6ef62497"
      },
      "source": [
        "#The program must print the fibonacci series in the reverse order as the output.\n",
        "#Input:12----89 55 34 21 13 8 5 3 2 1 1 0\n",
        "def Q1(x):\n",
        "  while x-2!=0:\n",
        "    a=0\n",
        "    b=1\n",
        "    c=0\n",
        "    for i in range(x-2):\n",
        "      c=a+b\n",
        "      a=b\n",
        "      b=c\n",
        "    print(c,end=\" \")\n",
        "    x-=1\n",
        "  print('1 0')\n",
        "  return\n",
        "Q1(int(input(\"enter number\")))"
      ],
      "execution_count": 4,
      "outputs": [
        {
          "output_type": "stream",
          "text": [
            "enter number12\n",
            "89 55 34 21 13 8 5 3 2 1 1 0\n"
          ],
          "name": "stdout"
        }
      ]
    },
    {
      "cell_type": "code",
      "metadata": {
        "id": "pUhzNZ6uSK8d",
        "colab_type": "code",
        "colab": {
          "base_uri": "https://localhost:8080/",
          "height": 136
        },
        "outputId": "a21bfec5-d7c0-436f-e712-9ff7c53f38c3"
      },
      "source": [
        "#The program must accept N integers as the input. The program must print the sum of non repeated integers as the output. If there is no non repeated integer then the program must print -1 as the output.\n",
        "  def Q2(n):\n",
        "  a=[]\n",
        "  s=0\n",
        "  for i in range(n):\n",
        "    a.append(int(input()))\n",
        "  for i in range(n):\n",
        "      c=0\n",
        "      for j in range(n):\n",
        "        if i!=j:\n",
        "          if a[i]==a[j]:\n",
        "            c+=1\n",
        "      if c==0:\n",
        "        s=s+a[i]\n",
        "  return s\n",
        "Q2(int(input(\"no of values \")))"
      ],
      "execution_count": 11,
      "outputs": [
        {
          "output_type": "stream",
          "text": [
            "no of values 5\n",
            "22\n",
            "33\n",
            "22\n",
            "33\n",
            "55\n"
          ],
          "name": "stdout"
        },
        {
          "output_type": "execute_result",
          "data": {
            "text/plain": [
              "55"
            ]
          },
          "metadata": {
            "tags": []
          },
          "execution_count": 11
        }
      ]
    },
    {
      "cell_type": "code",
      "metadata": {
        "id": "JGRezaswJmNd",
        "colab_type": "code",
        "colab": {
          "base_uri": "https://localhost:8080/",
          "height": 153
        },
        "outputId": "67b9e7d8-91e9-4400-d3b0-1dc552e2741f"
      },
      "source": [
        "#The program must accept two string values S1 and S2. The program must print the pattern as shown in the \n",
        "def Q3(a,b):\n",
        "  if len(a)<=len(b):\n",
        "    n=len(a)\n",
        "    k=len(b)\n",
        "  else:\n",
        "    n=len(b)\n",
        "    k=len(a)\n",
        "  for i in range(n):\n",
        "    print(a[i],b[i])\n",
        "  for j in range(n,k):\n",
        "    if(len(a)<=len(b)):\n",
        "      print(b[j],'*')\n",
        "    else:\n",
        "      print(a[j],'*')\n",
        "  return   \n",
        "x=str(input(\"enter str:\"))\n",
        "x=x.split()\n",
        "Q3(x[0],x[1])"
      ],
      "execution_count": 18,
      "outputs": [
        {
          "output_type": "stream",
          "text": [
            "enter str:hirhfye nhjkd\n",
            "h n\n",
            "i h\n",
            "r j\n",
            "h k\n",
            "f d\n",
            "y *\n",
            "e *\n"
          ],
          "name": "stdout"
        }
      ]
    },
    {
      "cell_type": "code",
      "metadata": {
        "id": "PC-YJr75LJ1C",
        "colab_type": "code",
        "colab": {
          "base_uri": "https://localhost:8080/",
          "height": 51
        },
        "outputId": "d936d861-c93f-48ed-bce0-9d0044a97841"
      },
      "source": [
        "#The program must accept a string S as the input. The program print the longest word from the string S as the output. If two or more longest words are of same length then consider the first one.\n",
        "def Q4(a,b):\n",
        "  if len(a)>=len(b):\n",
        "    print(a.upper())\n",
        "  else:\n",
        "    print(b.upper())\n",
        "  return\n",
        "x=str(input(\"enter str:\"))\n",
        "x=x.split()\n",
        "Q4(x[0],x[1])"
      ],
      "execution_count": 14,
      "outputs": [
        {
          "output_type": "stream",
          "text": [
            "enter str:Haritha Nimmagadda\n",
            "NIMMAGADDA\n"
          ],
          "name": "stdout"
        }
      ]
    },
    {
      "cell_type": "code",
      "metadata": {
        "id": "jzsRchjoRFNc",
        "colab_type": "code",
        "colab": {
          "base_uri": "https://localhost:8080/",
          "height": 51
        },
        "outputId": "6e9d9fff-0030-424e-ed30-5dcf555342eb"
      },
      "source": [
        "# Your program need to accept a string (alphanuermic) includes white spaces also. The program must print the output in the following way.\n",
        "def Q5_1(a):\n",
        "  a=a.split()\n",
        "  for i in range (len(a)):\n",
        "    if a[i].istitle()==True:\n",
        "      print(a[i].upper(),end= \" \")\n",
        "  return\n",
        "x=str(input(\"enter str:\"))\n",
        "Q5_1(x)"
      ],
      "execution_count": 16,
      "outputs": [
        {
          "output_type": "stream",
          "text": [
            "enter str:Haritha Nimmagadda\n",
            "HARITHA NIMMAGADDA "
          ],
          "name": "stdout"
        }
      ]
    },
    {
      "cell_type": "code",
      "metadata": {
        "id": "eQW8rlO1ReX3",
        "colab_type": "code",
        "colab": {}
      },
      "source": [
        ""
      ],
      "execution_count": 0,
      "outputs": []
    }
  ]
}