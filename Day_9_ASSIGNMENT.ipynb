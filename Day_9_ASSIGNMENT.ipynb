{
  "nbformat": 4,
  "nbformat_minor": 0,
  "metadata": {
    "colab": {
      "name": "Day-9 ASSIGNMENT.ipynb",
      "version": "0.3.2",
      "provenance": [],
      "include_colab_link": true
    },
    "kernelspec": {
      "name": "python3",
      "display_name": "Python 3"
    }
  },
  "cells": [
    {
      "cell_type": "markdown",
      "metadata": {
        "id": "view-in-github",
        "colab_type": "text"
      },
      "source": [
        "<a href=\"https://colab.research.google.com/github/harithan221810402016/HARITHA/blob/master/Day_9_ASSIGNMENT.ipynb\" target=\"_parent\"><img src=\"https://colab.research.google.com/assets/colab-badge.svg\" alt=\"Open In Colab\"/></a>"
      ]
    },
    {
      "cell_type": "markdown",
      "metadata": {
        "id": "YtQMbzXNU0Cj",
        "colab_type": "text"
      },
      "source": [
        "ASSIGNMENT"
      ]
    },
    {
      "cell_type": "code",
      "metadata": {
        "id": "Q5TIwP95U4OE",
        "colab_type": "code",
        "colab": {
          "base_uri": "https://localhost:8080/",
          "height": 51
        },
        "outputId": "e6aa0ea0-d5de-4815-c40b-c530b0c127fd"
      },
      "source": [
        "#Series Generations:-  1, 3, 9, 27, 81, ...\n",
        "n=int(input(\"enter a number\"))\n",
        "for i in range (0,n):\n",
        "  a=3**i\n",
        "  print(a,end=\" \")"
      ],
      "execution_count": 1,
      "outputs": [
        {
          "output_type": "stream",
          "text": [
            "enter a number5\n",
            "1 3 9 27 81 "
          ],
          "name": "stdout"
        }
      ]
    },
    {
      "cell_type": "code",
      "metadata": {
        "id": "vKScx2KvVQcy",
        "colab_type": "code",
        "colab": {
          "base_uri": "https://localhost:8080/",
          "height": 51
        },
        "outputId": "8da78018-721b-46a5-c8a6-0e229ddeff74"
      },
      "source": [
        "#Series Generations:-  1, 2, 4, 8, 16, 32, 64, 128, 256, ...\n",
        "n=int(input(\"enter a number\"))\n",
        "print(\"1,\",end=\" \")\n",
        "for i in range(1,n):\n",
        "    \n",
        "    a=i*2\n",
        "    print(a,end=\", \")"
      ],
      "execution_count": 31,
      "outputs": [
        {
          "output_type": "stream",
          "text": [
            "enter a number 5\n",
            "1, 2, 4, 6, 8, "
          ],
          "name": "stdout"
        }
      ]
    },
    {
      "cell_type": "code",
      "metadata": {
        "id": "YAhawGEwVqBL",
        "colab_type": "code",
        "colab": {
          "base_uri": "https://localhost:8080/",
          "height": 51
        },
        "outputId": "9287381c-9fd0-4566-eb4c-0cf87718763d"
      },
      "source": [
        "#Series Generations:-  1 3 4 8 15 27 50 92 169 311\n",
        "n=int(input(\"enter a number\"))\n",
        "a=1\n",
        "b=3\n",
        "c=4\n",
        "print(\"1 3 4 \",end=\" \")\n",
        "for i in range(1,n+1):\n",
        "  sum=a+b+c\n",
        "  print(sum,end=\" \")\n",
        "  a=b\n",
        "  b=c\n",
        "  c=sum"
      ],
      "execution_count": 27,
      "outputs": [
        {
          "output_type": "stream",
          "text": [
            "enter a number5\n",
            "1 3 4  8 15 27 50 92 "
          ],
          "name": "stdout"
        }
      ]
    },
    {
      "cell_type": "code",
      "metadata": {
        "id": "fewcQUGrWuNv",
        "colab_type": "code",
        "colab": {
          "base_uri": "https://localhost:8080/",
          "height": 51
        },
        "outputId": "c5b09d6d-79a8-4179-96d7-941c81e3d7d6"
      },
      "source": [
        "\n",
        "#Series Generations:-  1! + 2! + 3! + 4! + 5! + ... + n!\n",
        "fact=1\n",
        "n=int(input(\"input a number please \"))\n",
        "for k in range (1,n+1) :\n",
        "    for i in range (1,k+1) :\n",
        "      fact=i*fact\n",
        "    sum=sum+fact\n",
        "print(\"this is your answer\",sum)"
      ],
      "execution_count": 28,
      "outputs": [
        {
          "output_type": "stream",
          "text": [
            "input a number please 2\n",
            "this is your answer 3\n"
          ],
          "name": "stdout"
        }
      ]
    },
    {
      "cell_type": "code",
      "metadata": {
        "id": "DQEpZ5f0XVz0",
        "colab_type": "code",
        "colab": {
          "base_uri": "https://localhost:8080/",
          "height": 51
        },
        "outputId": "967f0988-1375-4463-97bc-2ef5f02eb40e"
      },
      "source": [
        "#Series Generations:-  2 15 41 80 132 197 275 366 470 587\n",
        "n=int(input(\"input a number please \"))\n",
        "sum=2\n",
        "for i in range(0,n+1):\n",
        "  sum=sum+(i*13)\n",
        "  print(sum,end=\" \")\n",
        "  "
      ],
      "execution_count": 32,
      "outputs": [
        {
          "output_type": "stream",
          "text": [
            "input a number please 5\n",
            "2 15 41 80 132 197 "
          ],
          "name": "stdout"
        }
      ]
    },
    {
      "cell_type": "code",
      "metadata": {
        "id": "_hgvQcbfctPF",
        "colab_type": "code",
        "colab": {
          "base_uri": "https://localhost:8080/",
          "height": 51
        },
        "outputId": "64fc1bea-fa4c-4042-cb7a-b0763ced9c99"
      },
      "source": [
        "# Series Generations:-  1,9,17, 33,49,73,97\n",
        "n=int(input(\"input a number please \"))\n",
        "a=8\n",
        "b=1\n",
        "print(\"1\",end=\" \")\n",
        "for i in range(1,n+1):\n",
        "  for j in  range(0,2):\n",
        "    b=b+a\n",
        "    print(b,end=\" \")\n",
        "  a=a+8\n",
        "  \n",
        "  "
      ],
      "execution_count": 37,
      "outputs": [
        {
          "output_type": "stream",
          "text": [
            "input a number please 5\n",
            "1 9 17 33 49 73 97 129 161 201 241 "
          ],
          "name": "stdout"
        }
      ]
    },
    {
      "cell_type": "code",
      "metadata": {
        "id": "TRxCx1hceDt_",
        "colab_type": "code",
        "colab": {}
      },
      "source": [
        ""
      ],
      "execution_count": 0,
      "outputs": []
    }
  ]
}